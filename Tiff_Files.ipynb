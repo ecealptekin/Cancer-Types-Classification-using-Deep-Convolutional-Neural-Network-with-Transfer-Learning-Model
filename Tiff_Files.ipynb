{
  "nbformat": 4,
  "nbformat_minor": 0,
  "metadata": {
    "colab": {
      "provenance": []
    },
    "kernelspec": {
      "name": "python3",
      "display_name": "Python 3"
    },
    "language_info": {
      "name": "python"
    },
    "gpuClass": "standard"
  },
  "cells": [
    {
      "cell_type": "code",
      "source": [
        "pip install slideio"
      ],
      "metadata": {
        "colab": {
          "base_uri": "https://localhost:8080/"
        },
        "id": "pP-l9Q1qb85t",
        "outputId": "da11f32e-74ee-4b82-de9e-8b7c85683c94"
      },
      "execution_count": 1,
      "outputs": [
        {
          "output_type": "stream",
          "name": "stdout",
          "text": [
            "Looking in indexes: https://pypi.org/simple, https://us-python.pkg.dev/colab-wheels/public/simple/\n",
            "Requirement already satisfied: slideio in /usr/local/lib/python3.8/dist-packages (2.0.0)\n",
            "Requirement already satisfied: numpy in /usr/local/lib/python3.8/dist-packages (from slideio) (1.21.6)\n"
          ]
        }
      ]
    },
    {
      "cell_type": "code",
      "source": [
        "!apt-get install openslide-tools\n",
        "!apt-get install python-openslide\n",
        "!pip install openslide-python"
      ],
      "metadata": {
        "colab": {
          "base_uri": "https://localhost:8080/"
        },
        "id": "Y0BJZMXp_eAn",
        "outputId": "f30e81f5-b335-4498-cb22-1a92b051a2db"
      },
      "execution_count": 2,
      "outputs": [
        {
          "output_type": "stream",
          "name": "stdout",
          "text": [
            "Reading package lists... Done\n",
            "Building dependency tree       \n",
            "Reading state information... Done\n",
            "openslide-tools is already the newest version (3.4.1+dfsg-4).\n",
            "0 upgraded, 0 newly installed, 0 to remove and 23 not upgraded.\n",
            "Reading package lists... Done\n",
            "Building dependency tree       \n",
            "Reading state information... Done\n",
            "E: Unable to locate package python-openslide\n",
            "Looking in indexes: https://pypi.org/simple, https://us-python.pkg.dev/colab-wheels/public/simple/\n",
            "Requirement already satisfied: openslide-python in /usr/local/lib/python3.8/dist-packages (1.2.0)\n",
            "Requirement already satisfied: Pillow in /usr/local/lib/python3.8/dist-packages (from openslide-python) (7.1.2)\n"
          ]
        }
      ]
    },
    {
      "cell_type": "code",
      "source": [
        "from google.colab import drive\n",
        "drive.mount('/content/gdrive')"
      ],
      "metadata": {
        "colab": {
          "base_uri": "https://localhost:8080/"
        },
        "id": "8Hz0V_xXwMNR",
        "outputId": "04e890e5-f7ba-4b93-a54a-488071f5ddd9"
      },
      "execution_count": 3,
      "outputs": [
        {
          "output_type": "stream",
          "name": "stdout",
          "text": [
            "Drive already mounted at /content/gdrive; to attempt to forcibly remount, call drive.mount(\"/content/gdrive\", force_remount=True).\n"
          ]
        }
      ]
    },
    {
      "cell_type": "code",
      "source": [
        "import requests\n",
        "import slideio\n",
        "import matplotlib.pyplot as plt\n",
        "from PIL import Image\n",
        "import os\n",
        "from openslide import open_slide\n",
        "import openslide\n",
        "from PIL import Image\n",
        "import numpy as np"
      ],
      "metadata": {
        "id": "vXXGwsA7KFco"
      },
      "execution_count": 4,
      "outputs": []
    },
    {
      "cell_type": "markdown",
      "source": [
        "## Resmi İndirme"
      ],
      "metadata": {
        "id": "BFj851TRnJW0"
      }
    },
    {
      "cell_type": "markdown",
      "source": [
        "## Resmi dönüştürme"
      ],
      "metadata": {
        "id": "83bLYmJQZowf"
      }
    },
    {
      "cell_type": "code",
      "source": [
        "s_path = '/content/gdrive/MyDrive/TCGA-SKCM/'"
      ],
      "metadata": {
        "id": "Nuy4CkDkvaaR"
      },
      "execution_count": 5,
      "outputs": []
    },
    {
      "cell_type": "code",
      "source": [
        "svs_list = [svs_file for svs_file in os.listdir(s_path) if svs_file.endswith(\".svs\")]\n",
        "\n",
        "for s in svs_list:\n",
        "\n",
        "  try:\n",
        "\n",
        "    #Load the slide file (svs) into an object.\n",
        "    slide = open_slide(s_path + s)\n",
        "        \n",
        "    slide_dims = slide.dimensions\n",
        "    print(\"Old dimensions:\", slide_dims)\n",
        "\n",
        "    dims = slide.level_dimensions\n",
        "\n",
        "    #num_levels = len(dims)\n",
        "    #print(\"Number of levels in this image are:\", num_levels)\n",
        "\n",
        "    #print(\"Dimensions of various levels in this image are:\", dims)\n",
        "\n",
        "    #By how much are levels downsampled from the original image?\n",
        "    #factors = slide.level_downsamples\n",
        "    #print(\"Each level is downsampled by an amount of: \", factors)\n",
        "\n",
        "    SCALE_FACTOR = 200\n",
        "    best_level = slide.get_best_level_for_downsample(SCALE_FACTOR)\n",
        "\n",
        "    #Copy an image from a level\n",
        "    level4_dim = dims[best_level]\n",
        "    \n",
        "    #Give pixel coordinates (top left pixel in the original large image)\n",
        "    #Also give the level number (for level 3 we are providing a valueof 2)\n",
        "    #Size of your output image\n",
        "    #Remember that the output would be a RGBA image (Not, RGB)\n",
        "    level3_img = slide.read_region((0,0), best_level, level4_dim) #Pillow object, mode=RGBA\n",
        "    #level3_img.show()\n",
        "\n",
        "    print(\"New dimensions:\", level3_img.size)\n",
        "\n",
        "    #newsize = (150, 150)\n",
        "    #level3_img = level3_img.resize(newsize)\n",
        "\n",
        "    #print(level3_img.size)\n",
        "\n",
        "    #Convert the image to RGB\n",
        "    level3_img_RGB = level3_img.convert('RGB')\n",
        "    level3_img_RGB.show()\n",
        "\n",
        "    #Convert the image into numpy array for processing\n",
        "    level3_img_np = np.array(level3_img_RGB)\n",
        "    #plt.imshow(level3_img_np)\n",
        "    \n",
        "    plt.imsave('/content/gdrive/MyDrive/TCGA-SKCM/TIFF/' + s[:-4] + \".tiff\", level3_img_np)\n",
        "    print(\"saved \" + s)\n",
        "    print()\n",
        "\n",
        "  except:\n",
        "    continue\n"
      ],
      "metadata": {
        "id": "qYSU08EzS0Rr",
        "colab": {
          "base_uri": "https://localhost:8080/"
        },
        "outputId": "ebc421fe-92ee-4349-fe99-9ef684cb3881"
      },
      "execution_count": 9,
      "outputs": [
        {
          "output_type": "stream",
          "name": "stdout",
          "text": [
            "Old dimensions: (24752, 35176)\n",
            "New dimensions: (1547, 2198)\n",
            "saved TCGA-EE-A3J8-01Z-00-DX1.4FAFDA16-1B9B-4D5C-9763-8390729E0F05.svs\n",
            "\n",
            "Old dimensions: (118047, 90432)\n",
            "New dimensions: (3688, 2826)\n",
            "saved TCGA-ER-A42L-06Z-00-DX1.EFC23C96-F0A5-4ADA-BE77-11B967531BEC.svs\n",
            "\n",
            "Old dimensions: (101592, 29533)\n",
            "New dimensions: (3174, 922)\n",
            "saved TCGA-WE-A8ZR-06A-01-TSA.A42B83E9-928C-410A-BE5E-C13C788FE31B.svs\n",
            "\n",
            "Old dimensions: (129479, 68080)\n",
            "New dimensions: (4046, 2127)\n",
            "saved TCGA-XV-AAZY-01Z-00-DX1.77D5F2CA-1A90-4F8B-86A2-29A9597B7373.svs\n",
            "\n"
          ]
        }
      ]
    },
    {
      "cell_type": "markdown",
      "source": [
        "## Not"
      ],
      "metadata": {
        "id": "eW1rbpqanVuh"
      }
    }
  ]
}