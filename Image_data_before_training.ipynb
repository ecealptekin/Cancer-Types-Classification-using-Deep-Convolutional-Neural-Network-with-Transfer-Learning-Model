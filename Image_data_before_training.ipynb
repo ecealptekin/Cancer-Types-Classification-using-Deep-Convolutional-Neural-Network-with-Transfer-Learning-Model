{
  "nbformat": 4,
  "nbformat_minor": 0,
  "metadata": {
    "colab": {
      "provenance": []
    },
    "kernelspec": {
      "name": "python3",
      "display_name": "Python 3"
    },
    "language_info": {
      "name": "python"
    },
    "gpuClass": "standard"
  },
  "cells": [
    {
      "cell_type": "code",
      "execution_count": 1,
      "metadata": {
        "colab": {
          "base_uri": "https://localhost:8080/"
        },
        "id": "inGt1MwfO1bB",
        "outputId": "3636f30e-a338-4677-bfc5-aec84675c9f4"
      },
      "outputs": [
        {
          "output_type": "stream",
          "name": "stdout",
          "text": [
            "Mounted at /content/gdrive\n"
          ]
        }
      ],
      "source": [
        "from google.colab import drive\n",
        "drive.mount('/content/gdrive')"
      ]
    },
    {
      "cell_type": "code",
      "source": [
        "import os\n",
        "import glob\n",
        "import shutil\n",
        "import os"
      ],
      "metadata": {
        "id": "9jfq5ugEPvFy"
      },
      "execution_count": 2,
      "outputs": []
    },
    {
      "cell_type": "markdown",
      "source": [
        "## Get data of a class\n",
        "\n"
      ],
      "metadata": {
        "id": "qybwuYvqPHxX"
      }
    },
    {
      "cell_type": "code",
      "source": [
        "def GetData(classname):\n",
        "  \n",
        "  path = '/content/gdrive/MyDrive/TCGA-' + classname + '/tiles/'\n",
        "  tiff_list = [tiff_file for tiff_file in os.listdir(path) if tiff_file.endswith(\".tiff\")]\n",
        "\n",
        "\n",
        "  cancer = []\n",
        "  healthy = []\n",
        "  control = []\n",
        "  for i in range(len(tiff_list)):\n",
        "    title = tiff_list[i]\n",
        "    sample = title[13:14]\n",
        "    \n",
        "    # Tumor types range from 01 - 09\n",
        "    if('0' == sample):\n",
        "      cancer.append(title)\n",
        "    \n",
        "    # normal types from 10 - 19 \n",
        "    elif('1' == sample):\n",
        "      healthy.append(title)\n",
        "    \n",
        "    # control samples from 20 - 29\n",
        "    else:\n",
        "      control.append(title)\n",
        "\n",
        "  # get id of 200 patient\n",
        "  patient_list = []\n",
        "  for i in range(len(cancer)):\n",
        "    title = cancer[i]\n",
        "    patient = title[0:12]\n",
        "    patient_list.append(patient)\n",
        "\n",
        "  patient_list = list(dict.fromkeys(patient_list))\n",
        "  \n",
        "  # get 10 tiff for each patient\n",
        "  data = []\n",
        "  for i in range(len(patient_list)):\n",
        "    patient = patient_list[i]\n",
        "    count = 0\n",
        "    flag = True\n",
        "\n",
        "    for x in range(len(cancer)):\n",
        "      ctitle = cancer[x]\n",
        "      cpatient = ctitle[0:12]\n",
        "\n",
        "      if(count == 10):\n",
        "        flag = False\n",
        "        \n",
        "      if(patient == cpatient and count < 10 and flag == True):\n",
        "        data.append(ctitle)\n",
        "        count = count + 1\n",
        "   \n",
        "  \n",
        "  if len(data) > 2000:\n",
        "    data = data[0:2000]\n",
        "\n",
        "  src_dir = '/content/gdrive/MyDrive/TCGA-' + classname + '/tiles/'\n",
        "  dst_dir = '/content/gdrive/MyDrive/TCGA/TCGA-' + classname +'/'\n",
        "  for tiff_file in glob.iglob(os.path.join(src_dir, \"*.tiff\")):\n",
        "    a = tiff_file[40:]\n",
        "    if a in data:\n",
        "      shutil.copy(tiff_file, dst_dir)\n",
        "\n",
        "  return data, len(data)\n"
      ],
      "metadata": {
        "id": "_j9f5HeUPGa6"
      },
      "execution_count": 4,
      "outputs": []
    },
    {
      "cell_type": "code",
      "source": [
        "SKCM, length = GetData(\"SKCM\")\n",
        "print(\"Length of SKCM data: \", length)"
      ],
      "metadata": {
        "colab": {
          "base_uri": "https://localhost:8080/"
        },
        "id": "E06GDRchPGid",
        "outputId": "30278790-6618-4e9e-b34e-573dba6f17d5"
      },
      "execution_count": 5,
      "outputs": [
        {
          "output_type": "stream",
          "name": "stdout",
          "text": [
            "Length of SKCM data:  1860\n"
          ]
        }
      ]
    },
    {
      "cell_type": "code",
      "source": [
        "BRCA, length = GetData(\"BRCA\")\n",
        "print(\"Length of BRCA data: \", length)"
      ],
      "metadata": {
        "colab": {
          "base_uri": "https://localhost:8080/"
        },
        "id": "l_iA0ECDx5Q9",
        "outputId": "e9a486d0-b47d-4fae-a0fa-b16e9cc51ebd"
      },
      "execution_count": 6,
      "outputs": [
        {
          "output_type": "stream",
          "name": "stdout",
          "text": [
            "Length of BRCA data:  1860\n"
          ]
        }
      ]
    },
    {
      "cell_type": "code",
      "source": [
        "LUSC, length = GetData(\"LUSC\")\n",
        "print(\"Length of LUSC data: \", length)"
      ],
      "metadata": {
        "colab": {
          "base_uri": "https://localhost:8080/"
        },
        "id": "OMl_GYVw1X4g",
        "outputId": "8353d17b-89c3-4d4a-e009-bbe3cfc35a9a"
      },
      "execution_count": 7,
      "outputs": [
        {
          "output_type": "stream",
          "name": "stdout",
          "text": [
            "Length of LUSC data:  1617\n"
          ]
        }
      ]
    },
    {
      "cell_type": "code",
      "source": [
        "COAD, length = GetData(\"COAD\")\n",
        "print(\"Length of COAD data: \", length)"
      ],
      "metadata": {
        "colab": {
          "base_uri": "https://localhost:8080/"
        },
        "id": "pImwMQkEO9gF",
        "outputId": "b28e2b24-5210-45d0-8ff6-4c4847e1f676"
      },
      "execution_count": 9,
      "outputs": [
        {
          "output_type": "stream",
          "name": "stdout",
          "text": [
            "Length of COAD data:  1815\n"
          ]
        }
      ]
    },
    {
      "cell_type": "code",
      "source": [
        "\"\"\"\n",
        "LUAD, length = GetData(\"LUAD\")\n",
        "print(\"Length of LUAD data: \", length)\n",
        "\"\"\""
      ],
      "metadata": {
        "colab": {
          "base_uri": "https://localhost:8080/"
        },
        "id": "m65iotjumEOV",
        "outputId": "717f3804-977c-4803-85a2-6bf248fb81a0"
      },
      "execution_count": 18,
      "outputs": [
        {
          "output_type": "stream",
          "name": "stdout",
          "text": [
            "Length of LUAD data:  280\n"
          ]
        }
      ]
    },
    {
      "cell_type": "code",
      "source": [
        "\"\"\"\n",
        "LIHC, length = GetData(\"LIHC\")\n",
        "print(\"Length of LIHC data: \", length)\n",
        "\"\"\""
      ],
      "metadata": {
        "colab": {
          "base_uri": "https://localhost:8080/"
        },
        "id": "I-Oil_UxPGlE",
        "outputId": "e4fdd7f7-9db1-456c-a27a-45994f1d4e8e"
      },
      "execution_count": 19,
      "outputs": [
        {
          "output_type": "stream",
          "name": "stdout",
          "text": [
            "Length of LIHC data:  240\n"
          ]
        }
      ]
    }
  ]
}