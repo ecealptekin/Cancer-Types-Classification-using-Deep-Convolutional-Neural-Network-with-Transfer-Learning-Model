{
  "nbformat": 4,
  "nbformat_minor": 0,
  "metadata": {
    "colab": {
      "provenance": []
    },
    "kernelspec": {
      "name": "python3",
      "display_name": "Python 3"
    },
    "language_info": {
      "name": "python"
    }
  },
  "cells": [
    {
      "cell_type": "code",
      "execution_count": 1,
      "metadata": {
        "colab": {
          "base_uri": "https://localhost:8080/"
        },
        "id": "7B-ihDu7_XVS",
        "outputId": "c9748f57-31f4-45b6-b08a-3740d14e3d87"
      },
      "outputs": [
        {
          "output_type": "stream",
          "name": "stdout",
          "text": [
            "Mounted at /content/gdrive\n"
          ]
        }
      ],
      "source": [
        "from google.colab import drive\n",
        "drive.mount('/content/gdrive')"
      ]
    },
    {
      "cell_type": "code",
      "source": [
        "pip install split-folders"
      ],
      "metadata": {
        "colab": {
          "base_uri": "https://localhost:8080/"
        },
        "id": "QLaVQQkhCHrh",
        "outputId": "d7b7faa9-8aa4-4f83-ef67-c2660af04b65"
      },
      "execution_count": 2,
      "outputs": [
        {
          "output_type": "stream",
          "name": "stdout",
          "text": [
            "Looking in indexes: https://pypi.org/simple, https://us-python.pkg.dev/colab-wheels/public/simple/\n",
            "Collecting split-folders\n",
            "  Downloading split_folders-0.5.1-py3-none-any.whl (8.4 kB)\n",
            "Installing collected packages: split-folders\n",
            "Successfully installed split-folders-0.5.1\n"
          ]
        }
      ]
    },
    {
      "cell_type": "code",
      "source": [
        "import splitfolders"
      ],
      "metadata": {
        "id": "4QEDpqQ-BC5h"
      },
      "execution_count": 3,
      "outputs": []
    },
    {
      "cell_type": "code",
      "source": [
        "# Split with a ratio.\n",
        "# To only split into training and validation set, set a tuple to `ratio`, i.e, `(.8, .2)`.\n",
        "splitfolders.ratio(\"/content/gdrive/MyDrive/TCGA\", output=\"output\",\n",
        "    seed=1337, ratio=(.8, .1, .1), group_prefix=None, move=False) # default values"
      ],
      "metadata": {
        "colab": {
          "base_uri": "https://localhost:8080/"
        },
        "id": "fDxM49ZH_fDD",
        "outputId": "5d6fd7d4-517e-488f-cd31-27bc924d9dd9"
      },
      "execution_count": 5,
      "outputs": [
        {
          "output_type": "stream",
          "name": "stderr",
          "text": [
            "\n",
            "Copying files: 0 files [00:00, ? files/s]\u001b[A\n",
            "Copying files: 1 files [00:00,  2.56 files/s]\u001b[A\n",
            "Copying files: 27 files [00:00, 71.42 files/s]\u001b[A\n",
            "Copying files: 57 files [00:00, 133.55 files/s]\u001b[A\n",
            "Copying files: 88 files [00:00, 182.81 files/s]\u001b[A\n",
            "Copying files: 122 files [00:00, 226.08 files/s]\u001b[A\n",
            "Copying files: 152 files [00:00, 247.33 files/s]\u001b[A\n",
            "Copying files: 181 files [00:01, 236.89 files/s]\u001b[A\n",
            "Copying files: 214 files [00:01, 262.13 files/s]\u001b[A\n",
            "Copying files: 249 files [00:01, 284.89 files/s]\u001b[A\n",
            "Copying files: 283 files [00:01, 299.92 files/s]\u001b[A\n",
            "Copying files: 317 files [00:01, 307.82 files/s]\u001b[A\n",
            "Copying files: 349 files [00:01, 301.77 files/s]\u001b[A\n",
            "Copying files: 381 files [00:01, 305.25 files/s]\u001b[A\n",
            "Copying files: 413 files [00:01, 295.02 files/s]\u001b[A\n",
            "Copying files: 443 files [00:01, 290.00 files/s]\u001b[A\n",
            "Copying files: 473 files [00:01, 291.01 files/s]\u001b[A\n",
            "Copying files: 504 files [00:02, 291.96 files/s]\u001b[A\n",
            "Copying files: 534 files [00:02, 253.52 files/s]\u001b[A\n",
            "Copying files: 570 files [00:02, 281.08 files/s]\u001b[A\n",
            "Copying files: 600 files [00:02, 273.84 files/s]\u001b[A\n",
            "Copying files: 630 files [00:02, 277.31 files/s]\u001b[A\n",
            "Copying files: 664 files [00:02, 292.22 files/s]\u001b[A\n",
            "Copying files: 697 files [00:02, 299.76 files/s]\u001b[A\n",
            "Copying files: 728 files [00:02, 287.64 files/s]\u001b[A\n",
            "Copying files: 761 files [00:02, 297.91 files/s]\u001b[A\n",
            "Copying files: 796 files [00:03, 311.15 files/s]\u001b[A\n",
            "Copying files: 830 files [00:03, 318.89 files/s]\u001b[A\n",
            "Copying files: 863 files [00:03, 307.79 files/s]\u001b[A\n",
            "Copying files: 895 files [00:03, 291.93 files/s]\u001b[A\n",
            "Copying files: 925 files [00:03, 272.96 files/s]\u001b[A\n",
            "Copying files: 953 files [00:03, 270.61 files/s]\u001b[A\n",
            "Copying files: 988 files [00:03, 291.27 files/s]\u001b[A\n",
            "Copying files: 1019 files [00:03, 292.72 files/s]\u001b[A\n",
            "Copying files: 1049 files [00:03, 290.66 files/s]\u001b[A\n",
            "Copying files: 1079 files [00:04, 270.60 files/s]\u001b[A\n",
            "Copying files: 1107 files [00:04, 262.79 files/s]\u001b[A\n",
            "Copying files: 1142 files [00:04, 284.75 files/s]\u001b[A\n",
            "Copying files: 1179 files [00:04, 307.02 files/s]\u001b[A\n",
            "Copying files: 1213 files [00:04, 314.85 files/s]\u001b[A\n",
            "Copying files: 1246 files [00:04, 317.48 files/s]\u001b[A\n",
            "Copying files: 1280 files [00:04, 322.90 files/s]\u001b[A\n",
            "Copying files: 1315 files [00:04, 327.97 files/s]\u001b[A\n",
            "Copying files: 1348 files [00:04, 318.23 files/s]\u001b[A\n",
            "Copying files: 1380 files [00:05, 304.99 files/s]\u001b[A\n",
            "Copying files: 1411 files [00:05, 303.89 files/s]\u001b[A\n",
            "Copying files: 1446 files [00:05, 316.83 files/s]\u001b[A\n",
            "Copying files: 1482 files [00:05, 326.82 files/s]\u001b[A\n",
            "Copying files: 1515 files [00:05, 325.98 files/s]\u001b[A\n",
            "Copying files: 1550 files [00:05, 331.03 files/s]\u001b[A\n",
            "Copying files: 1584 files [00:05, 322.56 files/s]\u001b[A\n",
            "Copying files: 1618 files [00:05, 326.67 files/s]\u001b[A\n",
            "Copying files: 1651 files [00:05, 311.98 files/s]\u001b[A\n",
            "Copying files: 1683 files [00:06, 277.95 files/s]\u001b[A\n",
            "Copying files: 1717 files [00:06, 293.84 files/s]\u001b[A\n",
            "Copying files: 1748 files [00:06, 294.53 files/s]\u001b[A\n",
            "Copying files: 1778 files [00:06, 292.49 files/s]\u001b[A\n",
            "Copying files: 1813 files [00:06, 306.78 files/s]\u001b[A\n",
            "Copying files: 1846 files [00:06, 312.05 files/s]\u001b[A\n",
            "Copying files: 1878 files [00:12, 17.21 files/s] \u001b[A\n",
            "Copying files: 1880 files [00:23, 17.21 files/s]\u001b[A\n",
            "Copying files: 1881 files [00:49,  1.90 files/s]\u001b[A\n",
            "Copying files: 1919 files [00:49,  3.19 files/s]\u001b[A\n",
            "Copying files: 1952 files [00:50,  4.78 files/s]\u001b[A\n",
            "Copying files: 1982 files [00:50,  6.81 files/s]\u001b[A\n",
            "Copying files: 2011 files [00:50,  9.56 files/s]\u001b[A\n",
            "Copying files: 2047 files [00:50, 14.36 files/s]\u001b[A\n",
            "Copying files: 2080 files [00:50, 20.42 files/s]\u001b[A\n",
            "Copying files: 2111 files [00:50, 27.78 files/s]\u001b[A\n",
            "Copying files: 2144 files [00:50, 38.73 files/s]\u001b[A\n",
            "Copying files: 2177 files [00:50, 53.03 files/s]\u001b[A\n",
            "Copying files: 2210 files [00:50, 71.16 files/s]\u001b[A\n",
            "Copying files: 2244 files [00:51, 94.01 files/s]\u001b[A\n",
            "Copying files: 2276 files [00:51, 116.51 files/s]\u001b[A\n",
            "Copying files: 2308 files [00:51, 143.44 files/s]\u001b[A\n",
            "Copying files: 2339 files [00:51, 169.72 files/s]\u001b[A\n",
            "Copying files: 2372 files [00:51, 198.97 files/s]\u001b[A\n",
            "Copying files: 2405 files [00:51, 225.01 files/s]\u001b[A\n",
            "Copying files: 2437 files [00:51, 209.16 files/s]\u001b[A\n",
            "Copying files: 2471 files [00:51, 237.18 files/s]\u001b[A\n",
            "Copying files: 2501 files [00:51, 248.83 files/s]\u001b[A\n",
            "Copying files: 2532 files [00:52, 263.53 files/s]\u001b[A\n",
            "Copying files: 2562 files [00:52, 270.58 files/s]\u001b[A\n",
            "Copying files: 2592 files [00:52, 262.38 files/s]\u001b[A\n",
            "Copying files: 2621 files [00:52, 269.30 files/s]\u001b[A\n",
            "Copying files: 2658 files [00:52, 295.06 files/s]\u001b[A\n",
            "Copying files: 2692 files [00:52, 307.29 files/s]\u001b[A\n",
            "Copying files: 2727 files [00:52, 318.69 files/s]\u001b[A\n",
            "Copying files: 2760 files [00:52, 293.37 files/s]\u001b[A\n",
            "Copying files: 2791 files [00:52, 280.37 files/s]\u001b[A\n",
            "Copying files: 2825 files [00:53, 295.01 files/s]\u001b[A\n",
            "Copying files: 2858 files [00:53, 302.61 files/s]\u001b[A\n",
            "Copying files: 2893 files [00:53, 315.94 files/s]\u001b[A\n",
            "Copying files: 2926 files [00:53, 302.11 files/s]\u001b[A\n",
            "Copying files: 2957 files [00:53, 278.98 files/s]\u001b[A\n",
            "Copying files: 2990 files [00:53, 291.40 files/s]\u001b[A\n",
            "Copying files: 3020 files [00:53, 284.65 files/s]\u001b[A\n",
            "Copying files: 3051 files [00:53, 290.29 files/s]\u001b[A\n",
            "Copying files: 3084 files [00:53, 301.39 files/s]\u001b[A\n",
            "Copying files: 3115 files [00:54, 297.65 files/s]\u001b[A\n",
            "Copying files: 3145 files [00:54, 294.84 files/s]\u001b[A\n",
            "Copying files: 3177 files [00:54, 301.30 files/s]\u001b[A\n",
            "Copying files: 3208 files [00:54, 292.40 files/s]\u001b[A\n",
            "Copying files: 3238 files [00:54, 283.04 files/s]\u001b[A\n",
            "Copying files: 3271 files [00:54, 294.67 files/s]\u001b[A\n",
            "Copying files: 3302 files [00:54, 297.88 files/s]\u001b[A\n",
            "Copying files: 3332 files [00:54, 292.72 files/s]\u001b[A\n",
            "Copying files: 3362 files [00:54, 266.71 files/s]\u001b[A\n",
            "Copying files: 3390 files [00:55, 262.50 files/s]\u001b[A\n",
            "Copying files: 3426 files [00:55, 287.59 files/s]\u001b[A\n",
            "Copying files: 3456 files [00:55, 276.83 files/s]\u001b[A\n",
            "Copying files: 3485 files [00:55, 254.62 files/s]\u001b[A\n",
            "Copying files: 3513 files [00:55, 260.89 files/s]\u001b[A\n",
            "Copying files: 3548 files [00:55, 283.85 files/s]\u001b[A\n",
            "Copying files: 3577 files [00:55, 274.89 files/s]\u001b[A\n",
            "Copying files: 3611 files [00:55, 292.41 files/s]\u001b[A\n",
            "Copying files: 3642 files [00:55, 297.25 files/s]\u001b[A\n",
            "Copying files: 3673 files [00:55, 296.30 files/s]\u001b[A\n",
            "Copying files: 3693 files [01:13, 296.30 files/s]\u001b[A\n",
            "Copying files: 3694 files [01:38,  2.19 files/s] \u001b[A\n",
            "Copying files: 3695 files [01:38,  2.20 files/s]\u001b[A\n",
            "Copying files: 3724 files [01:39,  3.55 files/s]\u001b[A\n",
            "Copying files: 3748 files [01:39,  5.12 files/s]\u001b[A\n",
            "Copying files: 3776 files [01:39,  7.70 files/s]\u001b[A\n",
            "Copying files: 3803 files [01:39, 11.17 files/s]\u001b[A\n",
            "Copying files: 3836 files [01:39, 17.08 files/s]\u001b[A\n",
            "Copying files: 3871 files [01:39, 25.64 files/s]\u001b[A\n",
            "Copying files: 3900 files [01:39, 33.79 files/s]\u001b[A\n",
            "Copying files: 3927 files [01:39, 44.18 files/s]\u001b[A\n",
            "Copying files: 3951 files [01:40, 56.26 files/s]\u001b[A\n",
            "Copying files: 3977 files [01:40, 72.72 files/s]\u001b[A\n",
            "Copying files: 4008 files [01:40, 97.05 files/s]\u001b[A\n",
            "Copying files: 4036 files [01:40, 120.50 files/s]\u001b[A\n",
            "Copying files: 4068 files [01:40, 150.66 files/s]\u001b[A\n",
            "Copying files: 4096 files [01:40, 171.28 files/s]\u001b[A\n",
            "Copying files: 4129 files [01:40, 202.48 files/s]\u001b[A\n",
            "Copying files: 4161 files [01:40, 228.02 files/s]\u001b[A\n",
            "Copying files: 4193 files [01:40, 248.93 files/s]\u001b[A\n",
            "Copying files: 4224 files [01:40, 256.07 files/s]\u001b[A\n",
            "Copying files: 4257 files [01:41, 274.76 files/s]\u001b[A\n",
            "Copying files: 4288 files [01:41, 280.64 files/s]\u001b[A\n",
            "Copying files: 4319 files [01:41, 285.93 files/s]\u001b[A\n",
            "Copying files: 4352 files [01:41, 298.31 files/s]\u001b[A\n",
            "Copying files: 4384 files [01:41, 303.50 files/s]\u001b[A\n",
            "Copying files: 4416 files [01:41, 303.10 files/s]\u001b[A\n",
            "Copying files: 4447 files [01:41, 303.17 files/s]\u001b[A\n",
            "Copying files: 4478 files [01:41, 265.65 files/s]\u001b[A\n",
            "Copying files: 4506 files [01:41, 237.80 files/s]\u001b[A\n",
            "Copying files: 4538 files [01:42, 257.64 files/s]\u001b[A\n",
            "Copying files: 4565 files [01:42, 259.13 files/s]\u001b[A\n",
            "Copying files: 4597 files [01:42, 274.39 files/s]\u001b[A\n",
            "Copying files: 4626 files [01:42, 158.90 files/s]\u001b[A\n",
            "Copying files: 4654 files [01:42, 180.55 files/s]\u001b[A\n",
            "Copying files: 4685 files [01:42, 206.68 files/s]\u001b[A\n",
            "Copying files: 4719 files [01:42, 236.82 files/s]\u001b[A\n",
            "Copying files: 4748 files [01:43, 248.80 files/s]\u001b[A\n",
            "Copying files: 4781 files [01:43, 269.19 files/s]\u001b[A\n",
            "Copying files: 4812 files [01:43, 279.60 files/s]\u001b[A\n",
            "Copying files: 4848 files [01:43, 300.23 files/s]\u001b[A\n",
            "Copying files: 4880 files [01:43, 285.51 files/s]\u001b[A\n",
            "Copying files: 4910 files [01:43, 282.08 files/s]\u001b[A\n",
            "Copying files: 4944 files [01:43, 295.79 files/s]\u001b[A\n",
            "Copying files: 4975 files [01:43, 295.09 files/s]\u001b[A\n",
            "Copying files: 5005 files [01:43, 292.89 files/s]\u001b[A\n",
            "Copying files: 5041 files [01:44, 311.29 files/s]\u001b[A\n",
            "Copying files: 5073 files [01:44, 307.57 files/s]\u001b[A\n",
            "Copying files: 5104 files [01:44, 278.50 files/s]\u001b[A\n",
            "Copying files: 5133 files [01:44, 280.54 files/s]\u001b[A\n",
            "Copying files: 5162 files [01:44, 268.60 files/s]\u001b[A\n",
            "Copying files: 5196 files [01:44, 287.03 files/s]\u001b[A\n",
            "Copying files: 5226 files [01:44, 279.43 files/s]\u001b[A\n",
            "Copying files: 5255 files [01:44, 237.56 files/s]\u001b[A\n",
            "Copying files: 5288 files [01:44, 260.01 files/s]\u001b[A\n",
            "Copying files: 5312 files [02:03, 260.01 files/s]\u001b[A\n",
            "Copying files: 5313 files [02:20,  2.73 files/s] \u001b[A\n",
            "Copying files: 5334 files [02:20,  3.55 files/s]\u001b[A\n",
            "Copying files: 5360 files [02:20,  4.99 files/s]\u001b[A\n",
            "Copying files: 5390 files [02:20,  7.34 files/s]\u001b[A\n",
            "Copying files: 5420 files [02:20, 10.63 files/s]\u001b[A\n",
            "Copying files: 5448 files [02:21, 14.88 files/s]\u001b[A\n",
            "Copying files: 5481 files [02:21, 21.83 files/s]\u001b[A\n",
            "Copying files: 5510 files [02:21, 29.88 files/s]\u001b[A\n",
            "Copying files: 5538 files [02:21, 40.18 files/s]\u001b[A\n",
            "Copying files: 5565 files [02:21, 52.90 files/s]\u001b[A\n",
            "Copying files: 5596 files [02:21, 71.88 files/s]\u001b[A\n",
            "Copying files: 5626 files [02:21, 93.64 files/s]\u001b[A\n",
            "Copying files: 5659 files [02:21, 121.97 files/s]\u001b[A\n",
            "Copying files: 5689 files [02:21, 146.44 files/s]\u001b[A\n",
            "Copying files: 5719 files [02:22, 166.96 files/s]\u001b[A\n",
            "Copying files: 5750 files [02:22, 193.75 files/s]\u001b[A\n",
            "Copying files: 5779 files [02:22, 212.18 files/s]\u001b[A\n",
            "Copying files: 5811 files [02:22, 236.21 files/s]\u001b[A\n",
            "Copying files: 5841 files [02:22, 239.53 files/s]\u001b[A\n",
            "Copying files: 5869 files [02:22, 211.98 files/s]\u001b[A\n",
            "Copying files: 5900 files [02:22, 233.75 files/s]\u001b[A\n",
            "Copying files: 5933 files [02:22, 256.40 files/s]\u001b[A\n",
            "Copying files: 5965 files [02:22, 271.77 files/s]\u001b[A\n",
            "Copying files: 5995 files [02:23, 256.13 files/s]\u001b[A\n",
            "Copying files: 6023 files [02:23, 251.44 files/s]\u001b[A\n",
            "Copying files: 6050 files [02:23, 255.39 files/s]\u001b[A\n",
            "Copying files: 6077 files [02:23, 258.64 files/s]\u001b[A\n",
            "Copying files: 6107 files [02:23, 268.43 files/s]\u001b[A\n",
            "Copying files: 6141 files [02:23, 287.68 files/s]\u001b[A\n",
            "Copying files: 6176 files [02:23, 304.21 files/s]\u001b[A\n",
            "Copying files: 6208 files [02:23, 308.20 files/s]\u001b[A\n",
            "Copying files: 6240 files [02:23, 298.35 files/s]\u001b[A\n",
            "Copying files: 6271 files [02:24, 289.61 files/s]\u001b[A\n",
            "Copying files: 6301 files [02:24, 276.65 files/s]\u001b[A\n",
            "Copying files: 6329 files [02:24, 272.77 files/s]\u001b[A\n",
            "Copying files: 6357 files [02:24, 255.39 files/s]\u001b[A\n",
            "Copying files: 6383 files [02:24, 255.68 files/s]\u001b[A\n",
            "Copying files: 6409 files [02:24, 254.24 files/s]\u001b[A\n",
            "Copying files: 6435 files [02:24, 220.06 files/s]\u001b[A\n",
            "Copying files: 6458 files [02:24, 207.53 files/s]\u001b[A\n",
            "Copying files: 6482 files [02:25, 214.59 files/s]\u001b[A\n",
            "Copying files: 6508 files [02:25, 226.31 files/s]\u001b[A\n",
            "Copying files: 6532 files [02:25, 214.57 files/s]\u001b[A\n",
            "Copying files: 6554 files [02:25, 196.48 files/s]\u001b[A\n",
            "Copying files: 6580 files [02:25, 211.99 files/s]\u001b[A\n",
            "Copying files: 6602 files [02:25, 207.66 files/s]\u001b[A\n",
            "Copying files: 6631 files [02:25, 229.23 files/s]\u001b[A\n",
            "Copying files: 6666 files [02:25, 261.47 files/s]\u001b[A\n",
            "Copying files: 6693 files [02:25, 251.49 files/s]\u001b[A\n",
            "Copying files: 6722 files [02:26, 261.03 files/s]\u001b[A\n",
            "Copying files: 6754 files [02:26, 276.82 files/s]\u001b[A\n",
            "Copying files: 6783 files [02:26, 274.73 files/s]\u001b[A\n",
            "Copying files: 6811 files [02:26, 205.67 files/s]\u001b[A\n",
            "Copying files: 6839 files [02:26, 222.97 files/s]\u001b[A\n",
            "Copying files: 6870 files [02:26, 242.53 files/s]\u001b[A\n",
            "Copying files: 6904 files [02:26, 266.81 files/s]\u001b[A\n",
            "Copying files: 6941 files [02:26, 293.49 files/s]\u001b[A\n",
            "Copying files: 6972 files [02:26, 297.19 files/s]\u001b[A\n",
            "Copying files: 7003 files [02:27, 276.63 files/s]\u001b[A\n",
            "Copying files: 7036 files [02:27, 290.11 files/s]\u001b[A\n",
            "Copying files: 7066 files [02:27, 292.19 files/s]\u001b[A\n",
            "Copying files: 7098 files [02:27, 299.19 files/s]\u001b[A\n",
            "Copying files: 7152 files [02:27, 48.46 files/s] \n"
          ]
        }
      ]
    },
    {
      "cell_type": "code",
      "source": [
        "import os\n",
        "import glob\n",
        "import tifffile as tiff\n",
        "import numpy as np\n",
        "import tensorflow as tf"
      ],
      "metadata": {
        "id": "YqXUnsXWQZx6"
      },
      "execution_count": 24,
      "outputs": []
    },
    {
      "cell_type": "code",
      "source": [
        "train_x = []\n",
        "train_y = []\n",
        "\n",
        "src_dir = \"/content/output/train/TCGA-BRCA\"\n",
        "for tiff_file in glob.iglob(os.path.join(src_dir, \"*.tiff\")):\n",
        "  img = tiff.imread(tiff_file)\n",
        "  img_array = np.array(img)\n",
        "  tensor = tf.convert_to_tensor(img_array, dtype=tf.int64) \n",
        "  train_x.append(tensor)\n",
        "  train_y.append(1)\n",
        "\n",
        "src_dir = \"/content/output/train/TCGA-COAD\"\n",
        "for tiff_file in glob.iglob(os.path.join(src_dir, \"*.tiff\")):\n",
        "  img = tiff.imread(tiff_file)\n",
        "  img_array = np.array(img)\n",
        "  tensor = tf.convert_to_tensor(img_array, dtype=tf.int64) \n",
        "  train_x.append(tensor)\n",
        "  train_y.append(2)\n",
        "\n",
        "src_dir = \"/content/output/train/TCGA-LUSC\"\n",
        "for tiff_file in glob.iglob(os.path.join(src_dir, \"*.tiff\")):\n",
        "  img = tiff.imread(tiff_file)\n",
        "  img_array = np.array(img)\n",
        "  tensor = tf.convert_to_tensor(img_array, dtype=tf.int64) \n",
        "  train_x.append(tensor)\n",
        "  train_y.append(3)\n",
        "\n",
        "src_dir = \"/content/output/train/TCGA-SKCM\"\n",
        "for tiff_file in glob.iglob(os.path.join(src_dir, \"*.tiff\")):\n",
        "  img = tiff.imread(tiff_file)\n",
        "  img_array = np.array(img)\n",
        "  tensor = tf.convert_to_tensor(img_array, dtype=tf.int64) \n",
        "  train_y.append(tensor)\n",
        "  train_y.append(4)\n",
        "\n",
        "print(len(train_x))"
      ],
      "metadata": {
        "colab": {
          "base_uri": "https://localhost:8080/",
          "height": 236
        },
        "id": "AH1daqTWQZ1c",
        "outputId": "f6da09dd-cbcd-4629-ddc5-4e2337af8f5f"
      },
      "execution_count": 2,
      "outputs": [
        {
          "output_type": "error",
          "ename": "NameError",
          "evalue": "ignored",
          "traceback": [
            "\u001b[0;31m---------------------------------------------------------------------------\u001b[0m",
            "\u001b[0;31mNameError\u001b[0m                                 Traceback (most recent call last)",
            "\u001b[0;32m<ipython-input-2-e36e8824ab0e>\u001b[0m in \u001b[0;36m<module>\u001b[0;34m\u001b[0m\n\u001b[1;32m      3\u001b[0m \u001b[0;34m\u001b[0m\u001b[0m\n\u001b[1;32m      4\u001b[0m \u001b[0msrc_dir\u001b[0m \u001b[0;34m=\u001b[0m \u001b[0;34m\"/content/output/train/TCGA-BRCA\"\u001b[0m\u001b[0;34m\u001b[0m\u001b[0;34m\u001b[0m\u001b[0m\n\u001b[0;32m----> 5\u001b[0;31m \u001b[0;32mfor\u001b[0m \u001b[0mtiff_file\u001b[0m \u001b[0;32min\u001b[0m \u001b[0mglob\u001b[0m\u001b[0;34m.\u001b[0m\u001b[0miglob\u001b[0m\u001b[0;34m(\u001b[0m\u001b[0mos\u001b[0m\u001b[0;34m.\u001b[0m\u001b[0mpath\u001b[0m\u001b[0;34m.\u001b[0m\u001b[0mjoin\u001b[0m\u001b[0;34m(\u001b[0m\u001b[0msrc_dir\u001b[0m\u001b[0;34m,\u001b[0m \u001b[0;34m\"*.tiff\"\u001b[0m\u001b[0;34m)\u001b[0m\u001b[0;34m)\u001b[0m\u001b[0;34m:\u001b[0m\u001b[0;34m\u001b[0m\u001b[0;34m\u001b[0m\u001b[0m\n\u001b[0m\u001b[1;32m      6\u001b[0m   \u001b[0mimg\u001b[0m \u001b[0;34m=\u001b[0m \u001b[0mtiff\u001b[0m\u001b[0;34m.\u001b[0m\u001b[0mimread\u001b[0m\u001b[0;34m(\u001b[0m\u001b[0mtiff_file\u001b[0m\u001b[0;34m)\u001b[0m\u001b[0;34m\u001b[0m\u001b[0;34m\u001b[0m\u001b[0m\n\u001b[1;32m      7\u001b[0m   \u001b[0mimg_array\u001b[0m \u001b[0;34m=\u001b[0m \u001b[0mnp\u001b[0m\u001b[0;34m.\u001b[0m\u001b[0marray\u001b[0m\u001b[0;34m(\u001b[0m\u001b[0mimg\u001b[0m\u001b[0;34m)\u001b[0m\u001b[0;34m\u001b[0m\u001b[0;34m\u001b[0m\u001b[0m\n",
            "\u001b[0;31mNameError\u001b[0m: name 'glob' is not defined"
          ]
        }
      ]
    },
    {
      "cell_type": "code",
      "source": [
        "BATCH_SIZE = 32"
      ],
      "metadata": {
        "id": "iUQprxDkNYzu"
      },
      "execution_count": 9,
      "outputs": []
    },
    {
      "cell_type": "code",
      "source": [],
      "metadata": {
        "id": "vX-M6CgD_fKG"
      },
      "execution_count": null,
      "outputs": []
    },
    {
      "cell_type": "code",
      "source": [],
      "metadata": {
        "id": "WEnCTLla_fMe"
      },
      "execution_count": null,
      "outputs": []
    }
  ]
}