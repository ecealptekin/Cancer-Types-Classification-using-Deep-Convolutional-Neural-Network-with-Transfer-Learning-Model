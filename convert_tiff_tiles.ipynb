{
  "nbformat": 4,
  "nbformat_minor": 0,
  "metadata": {
    "colab": {
      "provenance": []
    },
    "kernelspec": {
      "name": "python3",
      "display_name": "Python 3"
    },
    "language_info": {
      "name": "python"
    },
    "gpuClass": "standard"
  },
  "cells": [
    {
      "cell_type": "code",
      "source": [
        "pip install slideio"
      ],
      "metadata": {
        "colab": {
          "base_uri": "https://localhost:8080/"
        },
        "id": "pP-l9Q1qb85t",
        "outputId": "c9771fc8-e657-4556-8fd5-e715fd59392c"
      },
      "execution_count": 11,
      "outputs": [
        {
          "output_type": "stream",
          "name": "stdout",
          "text": [
            "Looking in indexes: https://pypi.org/simple, https://us-python.pkg.dev/colab-wheels/public/simple/\n",
            "Requirement already satisfied: slideio in /usr/local/lib/python3.8/dist-packages (2.0.0)\n",
            "Requirement already satisfied: numpy in /usr/local/lib/python3.8/dist-packages (from slideio) (1.21.6)\n"
          ]
        }
      ]
    },
    {
      "cell_type": "code",
      "source": [
        "!apt-get install openslide-tools\n",
        "!apt-get install python-openslide\n",
        "!pip install openslide-python"
      ],
      "metadata": {
        "colab": {
          "base_uri": "https://localhost:8080/"
        },
        "id": "Y0BJZMXp_eAn",
        "outputId": "0e956a2d-24bc-451c-a611-4ceeb95a46b4"
      },
      "execution_count": 12,
      "outputs": [
        {
          "output_type": "stream",
          "name": "stdout",
          "text": [
            "Reading package lists... Done\n",
            "Building dependency tree       \n",
            "Reading state information... Done\n",
            "openslide-tools is already the newest version (3.4.1+dfsg-4).\n",
            "0 upgraded, 0 newly installed, 0 to remove and 23 not upgraded.\n",
            "Reading package lists... Done\n",
            "Building dependency tree       \n",
            "Reading state information... Done\n",
            "E: Unable to locate package python-openslide\n",
            "Looking in indexes: https://pypi.org/simple, https://us-python.pkg.dev/colab-wheels/public/simple/\n",
            "Requirement already satisfied: openslide-python in /usr/local/lib/python3.8/dist-packages (1.2.0)\n",
            "Requirement already satisfied: Pillow in /usr/local/lib/python3.8/dist-packages (from openslide-python) (7.1.2)\n"
          ]
        }
      ]
    },
    {
      "cell_type": "code",
      "source": [
        "from google.colab import drive\n",
        "drive.mount('/content/gdrive')"
      ],
      "metadata": {
        "colab": {
          "base_uri": "https://localhost:8080/"
        },
        "id": "8Hz0V_xXwMNR",
        "outputId": "f597c861-ce80-4372-9864-0c9afc65842d"
      },
      "execution_count": 13,
      "outputs": [
        {
          "output_type": "stream",
          "name": "stdout",
          "text": [
            "Drive already mounted at /content/gdrive; to attempt to forcibly remount, call drive.mount(\"/content/gdrive\", force_remount=True).\n"
          ]
        }
      ]
    },
    {
      "cell_type": "code",
      "source": [
        "import requests\n",
        "import slideio\n",
        "import matplotlib.pyplot as plt\n",
        "from PIL import Image\n",
        "import os\n",
        "from openslide import open_slide\n",
        "import openslide\n",
        "from PIL import Image\n",
        "import numpy as np"
      ],
      "metadata": {
        "id": "vXXGwsA7KFco"
      },
      "execution_count": 14,
      "outputs": []
    },
    {
      "cell_type": "markdown",
      "source": [
        "## Resmi Tile'a dönüştürme"
      ],
      "metadata": {
        "id": "83bLYmJQZowf"
      }
    },
    {
      "cell_type": "code",
      "source": [
        "from openslide.deepzoom import DeepZoomGenerator"
      ],
      "metadata": {
        "id": "urIUEhGY6W66"
      },
      "execution_count": 15,
      "outputs": []
    },
    {
      "cell_type": "code",
      "source": [
        "s_path = '/content/gdrive/MyDrive/TCGA-SKCM/'"
      ],
      "metadata": {
        "id": "Nuy4CkDkvaaR"
      },
      "execution_count": 16,
      "outputs": []
    },
    {
      "cell_type": "code",
      "source": [
        "svs_list = [svs_file for svs_file in os.listdir(s_path) if svs_file.endswith(\".svs\")]\n",
        "\n",
        "\n",
        "for s in svs_list:\n",
        "\n",
        "  try:\n",
        "\n",
        "    #Load the slide file (svs) into an object.\n",
        "    slide = open_slide(s_path + s)\n",
        "        \n",
        "    name = s[:-4]\n",
        "    name = name + \"_\"\n",
        "\n",
        "    tiles = DeepZoomGenerator(slide, tile_size=224, overlap=0, limit_bounds=False)\n",
        "    #print(\"The number of levels in the tiles object are: \", tiles.level_count)\n",
        "    #print(\"The dimensions of data in each level are: \", tiles.level_dimensions)\n",
        "\n",
        "    #Total number of tiles in the tiles object\n",
        "    #print(\"Total number of tiles = : \", tiles.tile_count)\n",
        "\n",
        "    #How many tiles at a specific level?\n",
        "    #level_num = 11\n",
        "    #print(\"Tiles shape at level \", level_num, \" is: \", tiles.level_tiles[level_num])\n",
        "    #print(\"This means there are \", tiles.level_tiles[level_num][0]*tiles.level_tiles[level_num][1], \" total tiles in this level\")\n",
        "\n",
        "    ###### Saving each tile to local directory\n",
        "    cols, rows = tiles.level_tiles[12]\n",
        "\n",
        "    tile_dir = \"/content/gdrive/MyDrive/TCGA-SKCM/tiles/\"\n",
        "    \n",
        "    for row in range(rows):\n",
        "      for col in range(cols):\n",
        "        \n",
        "        tile_name = os.path.join(tile_dir, name + '%d_%d' % (col, row))\n",
        "        \n",
        "        print(\"Now saving tile with title: \", tile_name)\n",
        "        temp_tile = tiles.get_tile(12, (col, row))\n",
        "        temp_tile_RGB = temp_tile.convert('RGB')\n",
        "        temp_tile_np = np.array(temp_tile_RGB)\n",
        "        #plt.imsave(tile_name + \".tiff\", temp_tile_np)    \n",
        "        \n",
        "        # a good image\n",
        "        if temp_tile_np.mean() < 200 and temp_tile_np.std() > 20: \n",
        "          plt.imsave(tile_name + \".tiff\", temp_tile_np) \n",
        "    \n",
        "  except:\n",
        "    continue\n"
      ],
      "metadata": {
        "id": "qYSU08EzS0Rr",
        "colab": {
          "base_uri": "https://localhost:8080/"
        },
        "outputId": "41480282-34bf-4620-e212-7a380d1df3df"
      },
      "execution_count": 44,
      "outputs": [
        {
          "output_type": "stream",
          "name": "stdout",
          "text": [
            "Now saving tile with title:  /content/gdrive/MyDrive/TCGA-SKCM/tiles/TCGA-EE-A3J8-01Z-00-DX1.4FAFDA16-1B9B-4D5C-9763-8390729E0F05_0_0\n",
            "Now saving tile with title:  /content/gdrive/MyDrive/TCGA-SKCM/tiles/TCGA-EE-A3J8-01Z-00-DX1.4FAFDA16-1B9B-4D5C-9763-8390729E0F05_1_0\n",
            "Now saving tile with title:  /content/gdrive/MyDrive/TCGA-SKCM/tiles/TCGA-EE-A3J8-01Z-00-DX1.4FAFDA16-1B9B-4D5C-9763-8390729E0F05_2_0\n",
            "Now saving tile with title:  /content/gdrive/MyDrive/TCGA-SKCM/tiles/TCGA-EE-A3J8-01Z-00-DX1.4FAFDA16-1B9B-4D5C-9763-8390729E0F05_3_0\n",
            "Now saving tile with title:  /content/gdrive/MyDrive/TCGA-SKCM/tiles/TCGA-EE-A3J8-01Z-00-DX1.4FAFDA16-1B9B-4D5C-9763-8390729E0F05_4_0\n",
            "Now saving tile with title:  /content/gdrive/MyDrive/TCGA-SKCM/tiles/TCGA-EE-A3J8-01Z-00-DX1.4FAFDA16-1B9B-4D5C-9763-8390729E0F05_5_0\n",
            "Now saving tile with title:  /content/gdrive/MyDrive/TCGA-SKCM/tiles/TCGA-EE-A3J8-01Z-00-DX1.4FAFDA16-1B9B-4D5C-9763-8390729E0F05_6_0\n",
            "Now saving tile with title:  /content/gdrive/MyDrive/TCGA-SKCM/tiles/TCGA-EE-A3J8-01Z-00-DX1.4FAFDA16-1B9B-4D5C-9763-8390729E0F05_0_1\n",
            "Now saving tile with title:  /content/gdrive/MyDrive/TCGA-SKCM/tiles/TCGA-EE-A3J8-01Z-00-DX1.4FAFDA16-1B9B-4D5C-9763-8390729E0F05_1_1\n",
            "Now saving tile with title:  /content/gdrive/MyDrive/TCGA-SKCM/tiles/TCGA-EE-A3J8-01Z-00-DX1.4FAFDA16-1B9B-4D5C-9763-8390729E0F05_2_1\n",
            "Now saving tile with title:  /content/gdrive/MyDrive/TCGA-SKCM/tiles/TCGA-EE-A3J8-01Z-00-DX1.4FAFDA16-1B9B-4D5C-9763-8390729E0F05_3_1\n",
            "Now saving tile with title:  /content/gdrive/MyDrive/TCGA-SKCM/tiles/TCGA-EE-A3J8-01Z-00-DX1.4FAFDA16-1B9B-4D5C-9763-8390729E0F05_4_1\n",
            "Now saving tile with title:  /content/gdrive/MyDrive/TCGA-SKCM/tiles/TCGA-EE-A3J8-01Z-00-DX1.4FAFDA16-1B9B-4D5C-9763-8390729E0F05_5_1\n",
            "Now saving tile with title:  /content/gdrive/MyDrive/TCGA-SKCM/tiles/TCGA-EE-A3J8-01Z-00-DX1.4FAFDA16-1B9B-4D5C-9763-8390729E0F05_6_1\n",
            "Now saving tile with title:  /content/gdrive/MyDrive/TCGA-SKCM/tiles/TCGA-EE-A3J8-01Z-00-DX1.4FAFDA16-1B9B-4D5C-9763-8390729E0F05_0_2\n",
            "Now saving tile with title:  /content/gdrive/MyDrive/TCGA-SKCM/tiles/TCGA-EE-A3J8-01Z-00-DX1.4FAFDA16-1B9B-4D5C-9763-8390729E0F05_1_2\n",
            "Now saving tile with title:  /content/gdrive/MyDrive/TCGA-SKCM/tiles/TCGA-EE-A3J8-01Z-00-DX1.4FAFDA16-1B9B-4D5C-9763-8390729E0F05_2_2\n",
            "Now saving tile with title:  /content/gdrive/MyDrive/TCGA-SKCM/tiles/TCGA-EE-A3J8-01Z-00-DX1.4FAFDA16-1B9B-4D5C-9763-8390729E0F05_3_2\n",
            "Now saving tile with title:  /content/gdrive/MyDrive/TCGA-SKCM/tiles/TCGA-EE-A3J8-01Z-00-DX1.4FAFDA16-1B9B-4D5C-9763-8390729E0F05_4_2\n",
            "Now saving tile with title:  /content/gdrive/MyDrive/TCGA-SKCM/tiles/TCGA-EE-A3J8-01Z-00-DX1.4FAFDA16-1B9B-4D5C-9763-8390729E0F05_5_2\n",
            "Now saving tile with title:  /content/gdrive/MyDrive/TCGA-SKCM/tiles/TCGA-EE-A3J8-01Z-00-DX1.4FAFDA16-1B9B-4D5C-9763-8390729E0F05_6_2\n",
            "Now saving tile with title:  /content/gdrive/MyDrive/TCGA-SKCM/tiles/TCGA-EE-A3J8-01Z-00-DX1.4FAFDA16-1B9B-4D5C-9763-8390729E0F05_0_3\n",
            "Now saving tile with title:  /content/gdrive/MyDrive/TCGA-SKCM/tiles/TCGA-EE-A3J8-01Z-00-DX1.4FAFDA16-1B9B-4D5C-9763-8390729E0F05_1_3\n",
            "Now saving tile with title:  /content/gdrive/MyDrive/TCGA-SKCM/tiles/TCGA-EE-A3J8-01Z-00-DX1.4FAFDA16-1B9B-4D5C-9763-8390729E0F05_2_3\n",
            "Now saving tile with title:  /content/gdrive/MyDrive/TCGA-SKCM/tiles/TCGA-EE-A3J8-01Z-00-DX1.4FAFDA16-1B9B-4D5C-9763-8390729E0F05_3_3\n",
            "Now saving tile with title:  /content/gdrive/MyDrive/TCGA-SKCM/tiles/TCGA-EE-A3J8-01Z-00-DX1.4FAFDA16-1B9B-4D5C-9763-8390729E0F05_4_3\n",
            "Now saving tile with title:  /content/gdrive/MyDrive/TCGA-SKCM/tiles/TCGA-EE-A3J8-01Z-00-DX1.4FAFDA16-1B9B-4D5C-9763-8390729E0F05_5_3\n",
            "Now saving tile with title:  /content/gdrive/MyDrive/TCGA-SKCM/tiles/TCGA-EE-A3J8-01Z-00-DX1.4FAFDA16-1B9B-4D5C-9763-8390729E0F05_6_3\n",
            "Now saving tile with title:  /content/gdrive/MyDrive/TCGA-SKCM/tiles/TCGA-EE-A3J8-01Z-00-DX1.4FAFDA16-1B9B-4D5C-9763-8390729E0F05_0_4\n",
            "Now saving tile with title:  /content/gdrive/MyDrive/TCGA-SKCM/tiles/TCGA-EE-A3J8-01Z-00-DX1.4FAFDA16-1B9B-4D5C-9763-8390729E0F05_1_4\n",
            "Now saving tile with title:  /content/gdrive/MyDrive/TCGA-SKCM/tiles/TCGA-EE-A3J8-01Z-00-DX1.4FAFDA16-1B9B-4D5C-9763-8390729E0F05_2_4\n",
            "Now saving tile with title:  /content/gdrive/MyDrive/TCGA-SKCM/tiles/TCGA-EE-A3J8-01Z-00-DX1.4FAFDA16-1B9B-4D5C-9763-8390729E0F05_3_4\n",
            "Now saving tile with title:  /content/gdrive/MyDrive/TCGA-SKCM/tiles/TCGA-EE-A3J8-01Z-00-DX1.4FAFDA16-1B9B-4D5C-9763-8390729E0F05_4_4\n",
            "Now saving tile with title:  /content/gdrive/MyDrive/TCGA-SKCM/tiles/TCGA-EE-A3J8-01Z-00-DX1.4FAFDA16-1B9B-4D5C-9763-8390729E0F05_5_4\n",
            "Now saving tile with title:  /content/gdrive/MyDrive/TCGA-SKCM/tiles/TCGA-EE-A3J8-01Z-00-DX1.4FAFDA16-1B9B-4D5C-9763-8390729E0F05_6_4\n",
            "Now saving tile with title:  /content/gdrive/MyDrive/TCGA-SKCM/tiles/TCGA-EE-A3J8-01Z-00-DX1.4FAFDA16-1B9B-4D5C-9763-8390729E0F05_0_5\n",
            "Now saving tile with title:  /content/gdrive/MyDrive/TCGA-SKCM/tiles/TCGA-EE-A3J8-01Z-00-DX1.4FAFDA16-1B9B-4D5C-9763-8390729E0F05_1_5\n",
            "Now saving tile with title:  /content/gdrive/MyDrive/TCGA-SKCM/tiles/TCGA-EE-A3J8-01Z-00-DX1.4FAFDA16-1B9B-4D5C-9763-8390729E0F05_2_5\n",
            "Now saving tile with title:  /content/gdrive/MyDrive/TCGA-SKCM/tiles/TCGA-EE-A3J8-01Z-00-DX1.4FAFDA16-1B9B-4D5C-9763-8390729E0F05_3_5\n",
            "Now saving tile with title:  /content/gdrive/MyDrive/TCGA-SKCM/tiles/TCGA-EE-A3J8-01Z-00-DX1.4FAFDA16-1B9B-4D5C-9763-8390729E0F05_4_5\n",
            "Now saving tile with title:  /content/gdrive/MyDrive/TCGA-SKCM/tiles/TCGA-EE-A3J8-01Z-00-DX1.4FAFDA16-1B9B-4D5C-9763-8390729E0F05_5_5\n",
            "Now saving tile with title:  /content/gdrive/MyDrive/TCGA-SKCM/tiles/TCGA-EE-A3J8-01Z-00-DX1.4FAFDA16-1B9B-4D5C-9763-8390729E0F05_6_5\n",
            "Now saving tile with title:  /content/gdrive/MyDrive/TCGA-SKCM/tiles/TCGA-EE-A3J8-01Z-00-DX1.4FAFDA16-1B9B-4D5C-9763-8390729E0F05_0_6\n",
            "Now saving tile with title:  /content/gdrive/MyDrive/TCGA-SKCM/tiles/TCGA-EE-A3J8-01Z-00-DX1.4FAFDA16-1B9B-4D5C-9763-8390729E0F05_1_6\n",
            "Now saving tile with title:  /content/gdrive/MyDrive/TCGA-SKCM/tiles/TCGA-EE-A3J8-01Z-00-DX1.4FAFDA16-1B9B-4D5C-9763-8390729E0F05_2_6\n",
            "Now saving tile with title:  /content/gdrive/MyDrive/TCGA-SKCM/tiles/TCGA-EE-A3J8-01Z-00-DX1.4FAFDA16-1B9B-4D5C-9763-8390729E0F05_3_6\n",
            "Now saving tile with title:  /content/gdrive/MyDrive/TCGA-SKCM/tiles/TCGA-EE-A3J8-01Z-00-DX1.4FAFDA16-1B9B-4D5C-9763-8390729E0F05_4_6\n",
            "Now saving tile with title:  /content/gdrive/MyDrive/TCGA-SKCM/tiles/TCGA-EE-A3J8-01Z-00-DX1.4FAFDA16-1B9B-4D5C-9763-8390729E0F05_5_6\n",
            "Now saving tile with title:  /content/gdrive/MyDrive/TCGA-SKCM/tiles/TCGA-EE-A3J8-01Z-00-DX1.4FAFDA16-1B9B-4D5C-9763-8390729E0F05_6_6\n",
            "Now saving tile with title:  /content/gdrive/MyDrive/TCGA-SKCM/tiles/TCGA-EE-A3J8-01Z-00-DX1.4FAFDA16-1B9B-4D5C-9763-8390729E0F05_0_7\n",
            "Now saving tile with title:  /content/gdrive/MyDrive/TCGA-SKCM/tiles/TCGA-EE-A3J8-01Z-00-DX1.4FAFDA16-1B9B-4D5C-9763-8390729E0F05_1_7\n",
            "Now saving tile with title:  /content/gdrive/MyDrive/TCGA-SKCM/tiles/TCGA-EE-A3J8-01Z-00-DX1.4FAFDA16-1B9B-4D5C-9763-8390729E0F05_2_7\n",
            "Now saving tile with title:  /content/gdrive/MyDrive/TCGA-SKCM/tiles/TCGA-EE-A3J8-01Z-00-DX1.4FAFDA16-1B9B-4D5C-9763-8390729E0F05_3_7\n",
            "Now saving tile with title:  /content/gdrive/MyDrive/TCGA-SKCM/tiles/TCGA-EE-A3J8-01Z-00-DX1.4FAFDA16-1B9B-4D5C-9763-8390729E0F05_4_7\n",
            "Now saving tile with title:  /content/gdrive/MyDrive/TCGA-SKCM/tiles/TCGA-EE-A3J8-01Z-00-DX1.4FAFDA16-1B9B-4D5C-9763-8390729E0F05_5_7\n",
            "Now saving tile with title:  /content/gdrive/MyDrive/TCGA-SKCM/tiles/TCGA-EE-A3J8-01Z-00-DX1.4FAFDA16-1B9B-4D5C-9763-8390729E0F05_6_7\n",
            "Now saving tile with title:  /content/gdrive/MyDrive/TCGA-SKCM/tiles/TCGA-EE-A3J8-01Z-00-DX1.4FAFDA16-1B9B-4D5C-9763-8390729E0F05_0_8\n",
            "Now saving tile with title:  /content/gdrive/MyDrive/TCGA-SKCM/tiles/TCGA-EE-A3J8-01Z-00-DX1.4FAFDA16-1B9B-4D5C-9763-8390729E0F05_1_8\n",
            "Now saving tile with title:  /content/gdrive/MyDrive/TCGA-SKCM/tiles/TCGA-EE-A3J8-01Z-00-DX1.4FAFDA16-1B9B-4D5C-9763-8390729E0F05_2_8\n",
            "Now saving tile with title:  /content/gdrive/MyDrive/TCGA-SKCM/tiles/TCGA-EE-A3J8-01Z-00-DX1.4FAFDA16-1B9B-4D5C-9763-8390729E0F05_3_8\n",
            "Now saving tile with title:  /content/gdrive/MyDrive/TCGA-SKCM/tiles/TCGA-EE-A3J8-01Z-00-DX1.4FAFDA16-1B9B-4D5C-9763-8390729E0F05_4_8\n",
            "Now saving tile with title:  /content/gdrive/MyDrive/TCGA-SKCM/tiles/TCGA-EE-A3J8-01Z-00-DX1.4FAFDA16-1B9B-4D5C-9763-8390729E0F05_5_8\n",
            "Now saving tile with title:  /content/gdrive/MyDrive/TCGA-SKCM/tiles/TCGA-EE-A3J8-01Z-00-DX1.4FAFDA16-1B9B-4D5C-9763-8390729E0F05_6_8\n",
            "Now saving tile with title:  /content/gdrive/MyDrive/TCGA-SKCM/tiles/TCGA-EE-A3J8-01Z-00-DX1.4FAFDA16-1B9B-4D5C-9763-8390729E0F05_0_9\n",
            "Now saving tile with title:  /content/gdrive/MyDrive/TCGA-SKCM/tiles/TCGA-EE-A3J8-01Z-00-DX1.4FAFDA16-1B9B-4D5C-9763-8390729E0F05_1_9\n",
            "Now saving tile with title:  /content/gdrive/MyDrive/TCGA-SKCM/tiles/TCGA-EE-A3J8-01Z-00-DX1.4FAFDA16-1B9B-4D5C-9763-8390729E0F05_2_9\n",
            "Now saving tile with title:  /content/gdrive/MyDrive/TCGA-SKCM/tiles/TCGA-EE-A3J8-01Z-00-DX1.4FAFDA16-1B9B-4D5C-9763-8390729E0F05_3_9\n",
            "Now saving tile with title:  /content/gdrive/MyDrive/TCGA-SKCM/tiles/TCGA-EE-A3J8-01Z-00-DX1.4FAFDA16-1B9B-4D5C-9763-8390729E0F05_4_9\n",
            "Now saving tile with title:  /content/gdrive/MyDrive/TCGA-SKCM/tiles/TCGA-EE-A3J8-01Z-00-DX1.4FAFDA16-1B9B-4D5C-9763-8390729E0F05_5_9\n",
            "Now saving tile with title:  /content/gdrive/MyDrive/TCGA-SKCM/tiles/TCGA-EE-A3J8-01Z-00-DX1.4FAFDA16-1B9B-4D5C-9763-8390729E0F05_6_9\n"
          ]
        }
      ]
    },
    {
      "cell_type": "markdown",
      "source": [
        "## Not"
      ],
      "metadata": {
        "id": "eW1rbpqanVuh"
      }
    },
    {
      "cell_type": "code",
      "source": [],
      "metadata": {
        "id": "oDBIQxw5A4QY"
      },
      "execution_count": null,
      "outputs": []
    }
  ]
}