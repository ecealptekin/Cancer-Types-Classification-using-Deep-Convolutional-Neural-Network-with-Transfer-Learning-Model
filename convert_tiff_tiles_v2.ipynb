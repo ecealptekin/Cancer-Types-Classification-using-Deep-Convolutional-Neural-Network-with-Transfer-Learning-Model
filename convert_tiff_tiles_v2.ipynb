{
  "nbformat": 4,
  "nbformat_minor": 0,
  "metadata": {
    "colab": {
      "provenance": [],
      "machine_shape": "hm"
    },
    "kernelspec": {
      "name": "python3",
      "display_name": "Python 3"
    },
    "language_info": {
      "name": "python"
    },
    "gpuClass": "standard",
    "accelerator": "GPU"
  },
  "cells": [
    {
      "cell_type": "code",
      "source": [
        "pip install slideio"
      ],
      "metadata": {
        "id": "pP-l9Q1qb85t",
        "colab": {
          "base_uri": "https://localhost:8080/"
        },
        "outputId": "7dd51253-35fc-498c-b322-dadccb60bb85"
      },
      "execution_count": 8,
      "outputs": [
        {
          "output_type": "stream",
          "name": "stdout",
          "text": [
            "Looking in indexes: https://pypi.org/simple, https://us-python.pkg.dev/colab-wheels/public/simple/\n",
            "Requirement already satisfied: slideio in /usr/local/lib/python3.8/dist-packages (2.0.0)\n",
            "Requirement already satisfied: numpy in /usr/local/lib/python3.8/dist-packages (from slideio) (1.21.6)\n"
          ]
        }
      ]
    },
    {
      "cell_type": "code",
      "source": [
        "!apt-get install openslide-tools\n",
        "!apt-get install python-openslide\n",
        "!pip install openslide-python"
      ],
      "metadata": {
        "colab": {
          "base_uri": "https://localhost:8080/"
        },
        "id": "Y0BJZMXp_eAn",
        "outputId": "f0c84282-2631-416b-bb70-f4d773c90610"
      },
      "execution_count": 9,
      "outputs": [
        {
          "output_type": "stream",
          "name": "stdout",
          "text": [
            "Reading package lists... Done\n",
            "Building dependency tree       \n",
            "Reading state information... Done\n",
            "openslide-tools is already the newest version (3.4.1+dfsg-4).\n",
            "0 upgraded, 0 newly installed, 0 to remove and 23 not upgraded.\n",
            "Reading package lists... Done\n",
            "Building dependency tree       \n",
            "Reading state information... Done\n",
            "E: Unable to locate package python-openslide\n",
            "Looking in indexes: https://pypi.org/simple, https://us-python.pkg.dev/colab-wheels/public/simple/\n",
            "Requirement already satisfied: openslide-python in /usr/local/lib/python3.8/dist-packages (1.2.0)\n",
            "Requirement already satisfied: Pillow in /usr/local/lib/python3.8/dist-packages (from openslide-python) (7.1.2)\n"
          ]
        }
      ]
    },
    {
      "cell_type": "code",
      "source": [
        "from google.colab import drive\n",
        "drive.mount('/content/gdrive')"
      ],
      "metadata": {
        "colab": {
          "base_uri": "https://localhost:8080/"
        },
        "id": "8Hz0V_xXwMNR",
        "outputId": "6180a466-1c56-4535-cade-4e235e0dc81f"
      },
      "execution_count": 10,
      "outputs": [
        {
          "output_type": "stream",
          "name": "stdout",
          "text": [
            "Drive already mounted at /content/gdrive; to attempt to forcibly remount, call drive.mount(\"/content/gdrive\", force_remount=True).\n"
          ]
        }
      ]
    },
    {
      "cell_type": "code",
      "source": [
        "import requests\n",
        "import slideio\n",
        "import matplotlib.pyplot as plt\n",
        "from PIL import Image\n",
        "import os\n",
        "from openslide import open_slide\n",
        "import openslide\n",
        "from PIL import Image\n",
        "import numpy as np"
      ],
      "metadata": {
        "id": "vXXGwsA7KFco"
      },
      "execution_count": 11,
      "outputs": []
    },
    {
      "cell_type": "markdown",
      "source": [
        "## Resmi Tile'a dönüştürme"
      ],
      "metadata": {
        "id": "83bLYmJQZowf"
      }
    },
    {
      "cell_type": "code",
      "source": [
        "from openslide.deepzoom import DeepZoomGenerator"
      ],
      "metadata": {
        "id": "urIUEhGY6W66"
      },
      "execution_count": 12,
      "outputs": []
    },
    {
      "cell_type": "code",
      "source": [
        "slide = open_slide('/content/gdrive/MyDrive/FinalProject/project/TCGA-SKCM/TCGA-EB-A1NK-01A-01-TSA.1A22E8A9-5F6B-4581-BB2A-1F63D0AA29C2.svs')\n",
        "print(slide)\n",
        "\n",
        "tile_dir = \"/content/gdrive/MyDrive/comp411project/FinalProjectForTiles/TCGA-SKCM/tiles/\"\n",
        "\n",
        "\n",
        "tile_name = os.path.join(tile_dir, 'deneme' + '%d_%d' % (0, 0))\n",
        "          \n",
        "\n",
        "tile_name = os.path.join(tile_dir, 'deneme' + '%d_%d' % (0, 0))\n",
        "\n",
        "\n",
        "tiles = DeepZoomGenerator(slide, tile_size=1024, overlap=0, limit_bounds=False)\n",
        "\n",
        "print(tile_name)"
      ],
      "metadata": {
        "colab": {
          "base_uri": "https://localhost:8080/"
        },
        "id": "OwNp2ryyqCCK",
        "outputId": "973841d8-3c7d-4713-fd54-0124083b3614"
      },
      "execution_count": 13,
      "outputs": [
        {
          "output_type": "stream",
          "name": "stdout",
          "text": [
            "OpenSlide('/content/gdrive/MyDrive/FinalProject/project/TCGA-SKCM/TCGA-EB-A1NK-01A-01-TSA.1A22E8A9-5F6B-4581-BB2A-1F63D0AA29C2.svs')\n",
            "/content/gdrive/MyDrive/comp411project/FinalProjectForTiles/TCGA-SKCM/tiles/deneme0_0\n"
          ]
        }
      ]
    },
    {
      "cell_type": "code",
      "source": [
        "print(tiles)"
      ],
      "metadata": {
        "colab": {
          "base_uri": "https://localhost:8080/"
        },
        "id": "MPJY8WjQg1no",
        "outputId": "e6fbae54-7001-4cdd-8950-b939055acc6a"
      },
      "execution_count": 14,
      "outputs": [
        {
          "output_type": "stream",
          "name": "stdout",
          "text": [
            "DeepZoomGenerator(OpenSlide('/content/gdrive/MyDrive/FinalProject/project/TCGA-SKCM/TCGA-EB-A1NK-01A-01-TSA.1A22E8A9-5F6B-4581-BB2A-1F63D0AA29C2.svs'), tile_size=1024, overlap=0, limit_bounds=False)\n"
          ]
        }
      ]
    },
    {
      "cell_type": "code",
      "source": [
        "from PIL import Image\n",
        "import traceback\n",
        "import tifffile as tiff\n",
        "from tifffile import imsave\n",
        "from resizeimage import resizeimage\n",
        "import cv2\n",
        "import PIL\n",
        "\n",
        "def generate_tiles(path, tile_dir) :\n",
        "\n",
        "  svs_list = [svs_file for svs_file in os.listdir(path) if svs_file.endswith(\".svs\")]\n",
        "\n",
        "\n",
        "  for s in svs_list:\n",
        "\n",
        "    try:\n",
        "\n",
        "      #Load the slide file (svs) into an object.\n",
        "\n",
        "      print('Path', path+s)\n",
        "      slide = open_slide(path + s)\n",
        "          \n",
        "      name = s[:-4]\n",
        "      name = name + \"_\"\n",
        "\n",
        "      tiles = DeepZoomGenerator(slide, tile_size=1024, overlap=0, limit_bounds=False)\n",
        "      #print(\"The number of levels in the tiles object are: \", tiles.level_count)\n",
        "      #print(\"The dimensions of data in each level are: \", tiles.level_dimensions)\n",
        "\n",
        "      #Total number of tiles in the tiles object\n",
        "      print(\"Total number of tiles = : \", tiles.tile_count)\n",
        "\n",
        "      #How many tiles at a specific level?\n",
        "      level_num = 12\n",
        "      print(\"Tiles shape at level \", level_num, \" is: \", tiles.level_tiles[level_num])\n",
        "      print(\"This means there are \", tiles.level_tiles[level_num][0]*tiles.level_tiles[level_num][1], \" total tiles in this level\")\n",
        "\n",
        "      ###### Saving each tile to local directory\n",
        "      cols, rows = tiles.level_tiles[12]\n",
        "      \n",
        "      for row in range(rows):\n",
        "        for col in range(cols):\n",
        "          \n",
        "          tile_name = os.path.join(tile_dir, name + '%d_%d' % (col, row))\n",
        "        \n",
        "          temp_tile = tiles.get_tile(12, (col, row))\n",
        "          print('Get Tile:', type(temp_tile))\n",
        "          temp_tile_array = np.array(temp_tile)\n",
        "          temp_tile = cv2.resize(temp_tile_array, (224,224))\n",
        "          print(type(temp_tile))\n",
        "          temp_tile_final = PIL.Image.fromarray(temp_tile)\n",
        "          temp_tile_RGB = temp_tile_final.convert('RGB')\n",
        "          temp_tile_np = np.array(temp_tile_RGB)\n",
        "          #plt.imsave(tile_name + \".tiff\", temp_tile_np)    \n",
        "          \n",
        "          # a good image\n",
        "          if temp_tile_np.mean() < 200 and temp_tile_np.std() > 20: \n",
        "            print(\"Now saving tile with title: \", tile_name)\n",
        "            print(temp_tile_np.shape)\n",
        "            #temp_tile_np = resizeimage.resize_cover(temp_tile_np, [224,224])\n",
        "            #temp_tile_np.save(tile_name + \".tiff\", temp_tile_np.format)\n",
        "            imsave(tile_name + \".tiff\", temp_tile_np) \n",
        "\n",
        "      \n",
        "    except:\n",
        "      print('Exception oluştu')\n",
        "      traceback.print_exc()\n",
        "      break\n",
        "  return\n",
        "\n"
      ],
      "metadata": {
        "id": "qYSU08EzS0Rr"
      },
      "execution_count": 44,
      "outputs": []
    },
    {
      "cell_type": "code",
      "source": [
        "s_path = '/content/gdrive/MyDrive/FinalProject/project/TCGA-SKCM/'\n",
        "tile_dir = \"/content/gdrive/MyDrive/FinalProject/FinalProjectForTiles/TCGA-SKCM/tiles/\"\n",
        "\n",
        "generate_tiles(s_path,tile_dir)\n",
        "\n"
      ],
      "metadata": {
        "colab": {
          "base_uri": "https://localhost:8080/"
        },
        "id": "naJYQlwYU3F-",
        "outputId": "8baac5df-30c4-41e9-a93e-88096e1353fa"
      },
      "execution_count": null,
      "outputs": [
        {
          "output_type": "stream",
          "name": "stdout",
          "text": [
            "Path /content/gdrive/MyDrive/FinalProject/project/TCGA-SKCM/TCGA-EB-A1NK-01A-01-TSA.1A22E8A9-5F6B-4581-BB2A-1F63D0AA29C2.svs\n",
            "Total number of tiles = :  2910\n",
            "Tiles shape at level  12  is:  (3, 1)\n",
            "This means there are  3  total tiles in this level\n",
            "Get Tile: <class 'PIL.Image.Image'>\n",
            "<class 'numpy.ndarray'>\n",
            "Get Tile: <class 'PIL.Image.Image'>\n",
            "<class 'numpy.ndarray'>\n",
            "Get Tile: <class 'PIL.Image.Image'>\n",
            "<class 'numpy.ndarray'>\n",
            "Path /content/gdrive/MyDrive/FinalProject/project/TCGA-SKCM/TCGA-EE-A2MC-01Z-00-DX1.F91A5A23-F552-4D34-9848-F95892E1B2C9.svs\n",
            "Total number of tiles = :  10555\n",
            "Tiles shape at level  12  is:  (4, 3)\n",
            "This means there are  12  total tiles in this level\n",
            "Get Tile: <class 'PIL.Image.Image'>\n",
            "<class 'numpy.ndarray'>\n",
            "Get Tile: <class 'PIL.Image.Image'>\n",
            "<class 'numpy.ndarray'>\n",
            "Get Tile: <class 'PIL.Image.Image'>\n",
            "<class 'numpy.ndarray'>\n",
            "Get Tile: <class 'PIL.Image.Image'>\n",
            "<class 'numpy.ndarray'>\n",
            "Get Tile: <class 'PIL.Image.Image'>\n",
            "<class 'numpy.ndarray'>\n",
            "Get Tile: <class 'PIL.Image.Image'>\n",
            "<class 'numpy.ndarray'>\n",
            "Now saving tile with title:  /content/gdrive/MyDrive/FinalProject/FinalProjectForTiles/TCGA-SKCM/tiles/TCGA-EE-A2MC-01Z-00-DX1.F91A5A23-F552-4D34-9848-F95892E1B2C9_1_1\n",
            "(224, 224, 3)\n"
          ]
        },
        {
          "output_type": "stream",
          "name": "stderr",
          "text": [
            "<ipython-input-44-dca0005eab4a>:62: DeprecationWarning: <tifffile.imsave> is deprecated. Use tifffile.imwrite\n",
            "  imsave(tile_name + \".tiff\", temp_tile_np)\n"
          ]
        },
        {
          "output_type": "stream",
          "name": "stdout",
          "text": [
            "Get Tile: <class 'PIL.Image.Image'>\n",
            "<class 'numpy.ndarray'>\n",
            "Now saving tile with title:  /content/gdrive/MyDrive/FinalProject/FinalProjectForTiles/TCGA-SKCM/tiles/TCGA-EE-A2MC-01Z-00-DX1.F91A5A23-F552-4D34-9848-F95892E1B2C9_2_1\n",
            "(224, 224, 3)\n",
            "Get Tile: <class 'PIL.Image.Image'>\n",
            "<class 'numpy.ndarray'>\n",
            "Get Tile: <class 'PIL.Image.Image'>\n",
            "<class 'numpy.ndarray'>\n",
            "Get Tile: <class 'PIL.Image.Image'>\n",
            "<class 'numpy.ndarray'>\n",
            "Get Tile: <class 'PIL.Image.Image'>\n",
            "<class 'numpy.ndarray'>\n",
            "Get Tile: <class 'PIL.Image.Image'>\n",
            "<class 'numpy.ndarray'>\n",
            "Path /content/gdrive/MyDrive/FinalProject/project/TCGA-SKCM/TCGA-EE-A2MC-06A-01-TSA.53AB0AA8-DE6F-4DFD-BC05-542A3051A5D3.svs\n",
            "Total number of tiles = :  2542\n",
            "Tiles shape at level  12  is:  (3, 1)\n",
            "This means there are  3  total tiles in this level\n",
            "Get Tile: <class 'PIL.Image.Image'>\n",
            "<class 'numpy.ndarray'>\n",
            "Get Tile: <class 'PIL.Image.Image'>\n",
            "<class 'numpy.ndarray'>\n",
            "Get Tile: <class 'PIL.Image.Image'>\n",
            "<class 'numpy.ndarray'>\n",
            "Path /content/gdrive/MyDrive/FinalProject/project/TCGA-SKCM/TCGA-EE-A2GU-01Z-00-DX1.72DD2321-B321-4A18-88FF-04B179B4C297.svs\n",
            "Total number of tiles = :  13133\n",
            "Tiles shape at level  12  is:  (4, 3)\n",
            "This means there are  12  total tiles in this level\n",
            "Get Tile: <class 'PIL.Image.Image'>\n",
            "<class 'numpy.ndarray'>\n",
            "Now saving tile with title:  /content/gdrive/MyDrive/FinalProject/FinalProjectForTiles/TCGA-SKCM/tiles/TCGA-EE-A2GU-01Z-00-DX1.72DD2321-B321-4A18-88FF-04B179B4C297_0_0\n",
            "(224, 224, 3)\n",
            "Get Tile: <class 'PIL.Image.Image'>\n",
            "<class 'numpy.ndarray'>\n",
            "Now saving tile with title:  /content/gdrive/MyDrive/FinalProject/FinalProjectForTiles/TCGA-SKCM/tiles/TCGA-EE-A2GU-01Z-00-DX1.72DD2321-B321-4A18-88FF-04B179B4C297_1_0\n",
            "(224, 224, 3)\n",
            "Get Tile: <class 'PIL.Image.Image'>\n",
            "<class 'numpy.ndarray'>\n",
            "Now saving tile with title:  /content/gdrive/MyDrive/FinalProject/FinalProjectForTiles/TCGA-SKCM/tiles/TCGA-EE-A2GU-01Z-00-DX1.72DD2321-B321-4A18-88FF-04B179B4C297_2_0\n",
            "(224, 224, 3)\n",
            "Get Tile: <class 'PIL.Image.Image'>\n",
            "<class 'numpy.ndarray'>\n",
            "Get Tile: <class 'PIL.Image.Image'>\n",
            "<class 'numpy.ndarray'>\n",
            "Now saving tile with title:  /content/gdrive/MyDrive/FinalProject/FinalProjectForTiles/TCGA-SKCM/tiles/TCGA-EE-A2GU-01Z-00-DX1.72DD2321-B321-4A18-88FF-04B179B4C297_0_1\n",
            "(224, 224, 3)\n",
            "Get Tile: <class 'PIL.Image.Image'>\n",
            "<class 'numpy.ndarray'>\n",
            "Now saving tile with title:  /content/gdrive/MyDrive/FinalProject/FinalProjectForTiles/TCGA-SKCM/tiles/TCGA-EE-A2GU-01Z-00-DX1.72DD2321-B321-4A18-88FF-04B179B4C297_1_1\n",
            "(224, 224, 3)\n",
            "Get Tile: <class 'PIL.Image.Image'>\n",
            "<class 'numpy.ndarray'>\n",
            "Now saving tile with title:  /content/gdrive/MyDrive/FinalProject/FinalProjectForTiles/TCGA-SKCM/tiles/TCGA-EE-A2GU-01Z-00-DX1.72DD2321-B321-4A18-88FF-04B179B4C297_2_1\n",
            "(224, 224, 3)\n",
            "Get Tile: <class 'PIL.Image.Image'>\n",
            "<class 'numpy.ndarray'>\n",
            "Get Tile: <class 'PIL.Image.Image'>\n",
            "<class 'numpy.ndarray'>\n",
            "Get Tile: <class 'PIL.Image.Image'>\n",
            "<class 'numpy.ndarray'>\n",
            "Now saving tile with title:  /content/gdrive/MyDrive/FinalProject/FinalProjectForTiles/TCGA-SKCM/tiles/TCGA-EE-A2GU-01Z-00-DX1.72DD2321-B321-4A18-88FF-04B179B4C297_1_2\n",
            "(224, 224, 3)\n",
            "Get Tile: <class 'PIL.Image.Image'>\n",
            "<class 'numpy.ndarray'>\n",
            "Get Tile: <class 'PIL.Image.Image'>\n",
            "<class 'numpy.ndarray'>\n",
            "Path /content/gdrive/MyDrive/FinalProject/project/TCGA-SKCM/TCGA-EE-A2GB-06A-01-TSA.1D5872AB-5422-412B-A251-7DC710FDC7A5.svs\n",
            "Total number of tiles = :  4419\n",
            "Tiles shape at level  12  is:  (4, 1)\n",
            "This means there are  4  total tiles in this level\n",
            "Get Tile: <class 'PIL.Image.Image'>\n",
            "<class 'numpy.ndarray'>\n",
            "Get Tile: <class 'PIL.Image.Image'>\n",
            "<class 'numpy.ndarray'>\n",
            "Get Tile: <class 'PIL.Image.Image'>\n",
            "<class 'numpy.ndarray'>\n",
            "Get Tile: <class 'PIL.Image.Image'>\n",
            "<class 'numpy.ndarray'>\n",
            "Path /content/gdrive/MyDrive/FinalProject/project/TCGA-SKCM/TCGA-EE-A20H-01Z-00-DX1.A3C962A3-98DD-4952-AA0D-EEBB1F561D5D.svs\n",
            "Total number of tiles = :  14515\n",
            "Tiles shape at level  12  is:  (4, 3)\n",
            "This means there are  12  total tiles in this level\n",
            "Get Tile: <class 'PIL.Image.Image'>\n",
            "<class 'numpy.ndarray'>\n",
            "Get Tile: <class 'PIL.Image.Image'>\n",
            "<class 'numpy.ndarray'>\n",
            "Get Tile: <class 'PIL.Image.Image'>\n",
            "<class 'numpy.ndarray'>\n",
            "Now saving tile with title:  /content/gdrive/MyDrive/FinalProject/FinalProjectForTiles/TCGA-SKCM/tiles/TCGA-EE-A20H-01Z-00-DX1.A3C962A3-98DD-4952-AA0D-EEBB1F561D5D_2_0\n",
            "(224, 224, 3)\n",
            "Get Tile: <class 'PIL.Image.Image'>\n",
            "<class 'numpy.ndarray'>\n",
            "Get Tile: <class 'PIL.Image.Image'>\n",
            "<class 'numpy.ndarray'>\n",
            "Get Tile: <class 'PIL.Image.Image'>\n",
            "<class 'numpy.ndarray'>\n",
            "Get Tile: <class 'PIL.Image.Image'>\n",
            "<class 'numpy.ndarray'>\n",
            "Now saving tile with title:  /content/gdrive/MyDrive/FinalProject/FinalProjectForTiles/TCGA-SKCM/tiles/TCGA-EE-A20H-01Z-00-DX1.A3C962A3-98DD-4952-AA0D-EEBB1F561D5D_2_1\n",
            "(224, 224, 3)\n",
            "Get Tile: <class 'PIL.Image.Image'>\n",
            "<class 'numpy.ndarray'>\n",
            "Now saving tile with title:  /content/gdrive/MyDrive/FinalProject/FinalProjectForTiles/TCGA-SKCM/tiles/TCGA-EE-A20H-01Z-00-DX1.A3C962A3-98DD-4952-AA0D-EEBB1F561D5D_3_1\n",
            "(224, 224, 3)\n",
            "Get Tile: <class 'PIL.Image.Image'>\n",
            "<class 'numpy.ndarray'>\n",
            "Get Tile: <class 'PIL.Image.Image'>\n",
            "<class 'numpy.ndarray'>\n",
            "Now saving tile with title:  /content/gdrive/MyDrive/FinalProject/FinalProjectForTiles/TCGA-SKCM/tiles/TCGA-EE-A20H-01Z-00-DX1.A3C962A3-98DD-4952-AA0D-EEBB1F561D5D_1_2\n",
            "(224, 224, 3)\n",
            "Get Tile: <class 'PIL.Image.Image'>\n",
            "<class 'numpy.ndarray'>\n",
            "Now saving tile with title:  /content/gdrive/MyDrive/FinalProject/FinalProjectForTiles/TCGA-SKCM/tiles/TCGA-EE-A20H-01Z-00-DX1.A3C962A3-98DD-4952-AA0D-EEBB1F561D5D_2_2\n",
            "(224, 224, 3)\n",
            "Get Tile: <class 'PIL.Image.Image'>\n",
            "<class 'numpy.ndarray'>\n",
            "Path /content/gdrive/MyDrive/FinalProject/project/TCGA-SKCM/TCGA-EE-A29D-06A-01-TS1.03BBCD53-50CD-4ADE-B322-1973EB8EDFD9.svs\n",
            "Total number of tiles = :  3736\n",
            "Tiles shape at level  12  is:  (3, 1)\n",
            "This means there are  3  total tiles in this level\n",
            "Get Tile: <class 'PIL.Image.Image'>\n",
            "<class 'numpy.ndarray'>\n",
            "Get Tile: <class 'PIL.Image.Image'>\n",
            "<class 'numpy.ndarray'>\n",
            "Get Tile: <class 'PIL.Image.Image'>\n",
            "<class 'numpy.ndarray'>\n",
            "Now saving tile with title:  /content/gdrive/MyDrive/FinalProject/FinalProjectForTiles/TCGA-SKCM/tiles/TCGA-EE-A29D-06A-01-TS1.03BBCD53-50CD-4ADE-B322-1973EB8EDFD9_2_0\n",
            "(224, 224, 3)\n",
            "Path /content/gdrive/MyDrive/FinalProject/project/TCGA-SKCM/TCGA-EE-A2GN-06A-01-TSA.6BCC6EF5-ED10-42CE-AC47-8CC76370121F.svs\n",
            "Total number of tiles = :  3766\n",
            "Tiles shape at level  12  is:  (3, 2)\n",
            "This means there are  6  total tiles in this level\n",
            "Get Tile: <class 'PIL.Image.Image'>\n",
            "<class 'numpy.ndarray'>\n",
            "Get Tile: <class 'PIL.Image.Image'>\n",
            "<class 'numpy.ndarray'>\n",
            "Get Tile: <class 'PIL.Image.Image'>\n",
            "<class 'numpy.ndarray'>\n",
            "Now saving tile with title:  /content/gdrive/MyDrive/FinalProject/FinalProjectForTiles/TCGA-SKCM/tiles/TCGA-EE-A2GN-06A-01-TSA.6BCC6EF5-ED10-42CE-AC47-8CC76370121F_2_0\n",
            "(224, 224, 3)\n",
            "Get Tile: <class 'PIL.Image.Image'>\n",
            "<class 'numpy.ndarray'>\n",
            "Get Tile: <class 'PIL.Image.Image'>\n",
            "<class 'numpy.ndarray'>\n",
            "Get Tile: <class 'PIL.Image.Image'>\n",
            "<class 'numpy.ndarray'>\n",
            "Path /content/gdrive/MyDrive/FinalProject/project/TCGA-SKCM/TCGA-EE-A2GN-01Z-00-DX1.CC2B5420-6636-4CC3-AD84-AE8B2751675D.svs\n",
            "Total number of tiles = :  12589\n",
            "Tiles shape at level  12  is:  (4, 3)\n",
            "This means there are  12  total tiles in this level\n",
            "Get Tile: <class 'PIL.Image.Image'>\n",
            "<class 'numpy.ndarray'>\n",
            "Get Tile: <class 'PIL.Image.Image'>\n",
            "<class 'numpy.ndarray'>\n",
            "Now saving tile with title:  /content/gdrive/MyDrive/FinalProject/FinalProjectForTiles/TCGA-SKCM/tiles/TCGA-EE-A2GN-01Z-00-DX1.CC2B5420-6636-4CC3-AD84-AE8B2751675D_1_0\n",
            "(224, 224, 3)\n",
            "Get Tile: <class 'PIL.Image.Image'>\n",
            "<class 'numpy.ndarray'>\n",
            "Get Tile: <class 'PIL.Image.Image'>\n",
            "<class 'numpy.ndarray'>\n",
            "Get Tile: <class 'PIL.Image.Image'>\n",
            "<class 'numpy.ndarray'>\n",
            "Get Tile: <class 'PIL.Image.Image'>\n",
            "<class 'numpy.ndarray'>\n",
            "Now saving tile with title:  /content/gdrive/MyDrive/FinalProject/FinalProjectForTiles/TCGA-SKCM/tiles/TCGA-EE-A2GN-01Z-00-DX1.CC2B5420-6636-4CC3-AD84-AE8B2751675D_1_1\n",
            "(224, 224, 3)\n",
            "Get Tile: <class 'PIL.Image.Image'>\n",
            "<class 'numpy.ndarray'>\n",
            "Get Tile: <class 'PIL.Image.Image'>\n",
            "<class 'numpy.ndarray'>\n",
            "Get Tile: <class 'PIL.Image.Image'>\n",
            "<class 'numpy.ndarray'>\n",
            "Get Tile: <class 'PIL.Image.Image'>\n",
            "<class 'numpy.ndarray'>\n",
            "Now saving tile with title:  /content/gdrive/MyDrive/FinalProject/FinalProjectForTiles/TCGA-SKCM/tiles/TCGA-EE-A2GN-01Z-00-DX1.CC2B5420-6636-4CC3-AD84-AE8B2751675D_1_2\n",
            "(224, 224, 3)\n",
            "Get Tile: <class 'PIL.Image.Image'>\n",
            "<class 'numpy.ndarray'>\n",
            "Now saving tile with title:  /content/gdrive/MyDrive/FinalProject/FinalProjectForTiles/TCGA-SKCM/tiles/TCGA-EE-A2GN-01Z-00-DX1.CC2B5420-6636-4CC3-AD84-AE8B2751675D_2_2\n",
            "(224, 224, 3)\n",
            "Get Tile: <class 'PIL.Image.Image'>\n",
            "<class 'numpy.ndarray'>\n",
            "Path /content/gdrive/MyDrive/FinalProject/project/TCGA-SKCM/TCGA-ER-A19L-01Z-00-DX1.1CA310C8-2C7A-4719-9D54-6F2098F43949.svs\n",
            "Total number of tiles = :  10472\n",
            "Tiles shape at level  12  is:  (3, 3)\n",
            "This means there are  9  total tiles in this level\n",
            "Get Tile: <class 'PIL.Image.Image'>\n",
            "<class 'numpy.ndarray'>\n",
            "Get Tile: <class 'PIL.Image.Image'>\n",
            "<class 'numpy.ndarray'>\n",
            "Now saving tile with title:  /content/gdrive/MyDrive/FinalProject/FinalProjectForTiles/TCGA-SKCM/tiles/TCGA-ER-A19L-01Z-00-DX1.1CA310C8-2C7A-4719-9D54-6F2098F43949_1_0\n",
            "(224, 224, 3)\n",
            "Get Tile: <class 'PIL.Image.Image'>\n",
            "<class 'numpy.ndarray'>\n",
            "Get Tile: <class 'PIL.Image.Image'>\n",
            "<class 'numpy.ndarray'>\n",
            "Get Tile: <class 'PIL.Image.Image'>\n",
            "<class 'numpy.ndarray'>\n",
            "Now saving tile with title:  /content/gdrive/MyDrive/FinalProject/FinalProjectForTiles/TCGA-SKCM/tiles/TCGA-ER-A19L-01Z-00-DX1.1CA310C8-2C7A-4719-9D54-6F2098F43949_1_1\n",
            "(224, 224, 3)\n",
            "Get Tile: <class 'PIL.Image.Image'>\n",
            "<class 'numpy.ndarray'>\n",
            "Now saving tile with title:  /content/gdrive/MyDrive/FinalProject/FinalProjectForTiles/TCGA-SKCM/tiles/TCGA-ER-A19L-01Z-00-DX1.1CA310C8-2C7A-4719-9D54-6F2098F43949_2_1\n",
            "(224, 224, 3)\n",
            "Get Tile: <class 'PIL.Image.Image'>\n",
            "<class 'numpy.ndarray'>\n",
            "Get Tile: <class 'PIL.Image.Image'>\n",
            "<class 'numpy.ndarray'>\n",
            "Get Tile: <class 'PIL.Image.Image'>\n",
            "<class 'numpy.ndarray'>\n",
            "Path /content/gdrive/MyDrive/FinalProject/project/TCGA-SKCM/TCGA-ER-A19L-06A-01-TSA.74013D6F-B30E-4E1D-9F31-E2D4FCB1BD31.svs\n",
            "Total number of tiles = :  2715\n",
            "Tiles shape at level  12  is:  (3, 1)\n",
            "This means there are  3  total tiles in this level\n",
            "Get Tile: <class 'PIL.Image.Image'>\n",
            "<class 'numpy.ndarray'>\n",
            "Get Tile: <class 'PIL.Image.Image'>\n",
            "<class 'numpy.ndarray'>\n",
            "Get Tile: <class 'PIL.Image.Image'>\n",
            "<class 'numpy.ndarray'>\n",
            "Path /content/gdrive/MyDrive/FinalProject/project/TCGA-SKCM/TCGA-EE-A29B-01Z-00-DX1.879D9639-D004-450B-8DB8-DE9CDBD0AEE3.svs\n",
            "Total number of tiles = :  9729\n",
            "Tiles shape at level  12  is:  (3, 3)\n",
            "This means there are  9  total tiles in this level\n",
            "Get Tile: <class 'PIL.Image.Image'>\n",
            "<class 'numpy.ndarray'>\n",
            "Get Tile: <class 'PIL.Image.Image'>\n",
            "<class 'numpy.ndarray'>\n",
            "Now saving tile with title:  /content/gdrive/MyDrive/FinalProject/FinalProjectForTiles/TCGA-SKCM/tiles/TCGA-EE-A29B-01Z-00-DX1.879D9639-D004-450B-8DB8-DE9CDBD0AEE3_1_0\n",
            "(224, 224, 3)\n",
            "Get Tile: <class 'PIL.Image.Image'>\n",
            "<class 'numpy.ndarray'>\n",
            "Get Tile: <class 'PIL.Image.Image'>\n",
            "<class 'numpy.ndarray'>\n"
          ]
        }
      ]
    },
    {
      "cell_type": "markdown",
      "source": [
        "## Not"
      ],
      "metadata": {
        "id": "eW1rbpqanVuh"
      }
    },
    {
      "cell_type": "code",
      "source": [
        "s_path = '/content/gdrive/MyDrive/comp411project/FinalProject/project/TCGA-LUSC/'\n",
        "tile_dir = \"/content/gdrive/MyDrive/comp411project/FinalProjectForTiles/TCGA-LUSC/tiles/\"\n",
        "\n",
        "generate_tiles(s_path,tile_dir)\n",
        "s_path = '/content/gdrive/MyDrive/comp411project/FinalProject/project/TCGA-COAD/'\n",
        "tile_dir = \"/content/gdrive/MyDrive/comp411project/FinalProjectForTiles/TCGA-COAD/tiles/\"\n",
        "\n",
        "generate_tiles(s_path,tile_dir)"
      ],
      "metadata": {
        "id": "oDBIQxw5A4QY"
      },
      "execution_count": null,
      "outputs": []
    }
  ]
}